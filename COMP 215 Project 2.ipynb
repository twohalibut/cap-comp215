{
 "cells": [
  {
   "cell_type": "markdown",
   "id": "a0a92f6d-433a-4df3-b6d0-6a6927d0db69",
   "metadata": {},
   "source": [
    "# Project: The Bin-Packing and Knapsack Problems\n",
    "\n",
    "**For: COMP 215 Spring 2024  \n",
    "By: Stephen Bowman**\n",
    "\n",
    "The goal with this notebook is to explain the Bin-packing and Knapsack Problem, while also detailing some of the approximation algorithms used to solve them. As these are both NP-Hard, no known polynomial time algorithms exist for efficiently solving either problem (more on that later). There are, however, many approximation algorithms using heuristics and/or sophisticated algorithms that can generate optimal solutions for very large instances of the problem and get very close to polynomial time.\n",
    "\n",
    "For those who might want a deeper dive into specific topics discussed I've linked the relevant wikipedia articales that I used when I began my own research. They each serve as good starting points to began learning about each topic and contain useful links to research articles, books, and other even more detailed sources.\n",
    "\n",
    "**Sources:**\n",
    "\n",
    "https://en.wikipedia.org/wiki/Bin_packing_problem  \n",
    "https://en.wikipedia.org/wiki/Knapsack_problem  \n",
    "https://en.wikipedia.org/wiki/Heuristic_(computer_science)  \n",
    "https://en.wikipedia.org/wiki/Heuristic  \n",
    "https://en.wikipedia.org/wiki/Greedy_algorithm  "
   ]
  },
  {
   "cell_type": "markdown",
   "id": "9bb7e174-b3d8-4f2d-8b73-79fdbc92de65",
   "metadata": {},
   "source": [
    "## Bin Packing\n",
    "\n",
    "Let's start by illustrating the problem. Say we have a number of items with varying weights, these could be the mass of the items or some arbitray value, and a number of bins (any vessel meant to hold the items) with some max weight they can hold. For simplicity we will assume that each cart has the same weight limit. The question we then pose is how do we pack all the items while using the fewest number of bins. \n",
    "\n",
    "Now if this sounds easy, at least for a small problem, you not necessesarily wrong. For very small problems (single to double digit number of items) we can generally solve this by hand. But once we get to hundreds, thousands, millions of items we need a method that can be applied for **any** problem that can be represented as a bin packing problem. We certainly want a method that can find an optimal solution while also doing so in polynomial time, then as the problem gets larger is doesn't become computational infeasible to compute. Basically, if we go from a thousand to one-hundred thousand items, we dont want the time complexity to jump exponentialy (for example), and go from taking a couple minutes to a couple months to solve the problem. \n",
    "\n",
    "So what do we do?"
   ]
  },
  {
   "cell_type": "markdown",
   "id": "d61203af-3ab4-472d-bef0-6522ca2dc530",
   "metadata": {},
   "source": [
    "### Approximation Algorithms\n",
    "\n",
    "Thankfully mainy a brilliant researcher in Operations Research, the field in which bin-packing and similar problems are studied, have come up with many useful approximation and heuristic based algorithms. A heuristic, in the context of computer science and operations research, refers to a method of problem solving based on previous experience or knowledge on the problem when no other algorithms exist that can be used to solve the problem and find a sufficient, but maybe not optimal, solution to a problem. Heuristic methods will usually sacrifice optimality, completeness, accuracy, or precision for speed. The study of heuristics and their applications is a diverse and broad area of study that could be it's own entire project for this course, so I'll leave it there with a link at the start of the notebook should you be interested. "
   ]
  },
  {
   "cell_type": "markdown",
   "id": "f5301572-fbe9-4a26-9fc4-b600d693366f",
   "metadata": {},
   "source": [
    "Lets make a small test list of items with some name and weight. "
   ]
  },
  {
   "cell_type": "code",
   "execution_count": 1,
   "id": "a7eef5e8-6069-46e6-8633-cad5f31a34eb",
   "metadata": {
    "tags": []
   },
   "outputs": [],
   "source": [
    "test = [(2, 'item1'), (10, 'item2'), (4, 'item3'), (4, 'item3'), (10, 'item2'),\n",
    "       (1, 'item4'),(3, 'item5'),(5, 'item6'),(7, 'item7')]"
   ]
  },
  {
   "cell_type": "markdown",
   "id": "18184885-8c3a-4358-8f00-36ca336b0c3d",
   "metadata": {},
   "source": [
    "We now define the max weight that each bin can take."
   ]
  },
  {
   "cell_type": "code",
   "execution_count": 2,
   "id": "36e7f143-7ee4-4673-8637-2d6b704badd1",
   "metadata": {
    "tags": []
   },
   "outputs": [],
   "source": [
    "max_weight = 10"
   ]
  },
  {
   "cell_type": "markdown",
   "id": "71a4dddd-2f01-4d7c-924d-388eaa21ea01",
   "metadata": {},
   "source": [
    "For your own understanding, play around with the values and max weight and see how the solution changes. What happens when the weights are real numbers (1.1234234) vs integers? What if there were no duplicate items in the list?"
   ]
  },
  {
   "cell_type": "markdown",
   "id": "aea6894a-c7e5-41b8-9e3a-f82c4a0c4b43",
   "metadata": {},
   "source": [
    "**A note of the types of algorithms: Online vs Offline**\n",
    "\n",
    "Before the items are packed most methods will order the items by either descending (largest to smallest) or ascending (smallest to largest) weights, for this work book we will order them  in descending order. There are two general methods for solving, an **online heuristic algorithm or an offline one**. It should be noted that the categories themselves represent the way the algorithm accessess and stores the list of items and bins, not the specific algorithm used for deciding what items go where. Both online and offline methods have multiple algorithms for the decision part of the problem.\n",
    "\n",
    "From wikipedia, online algorithms have \"...the items arrive one after another and the (irreversible) decision where to place an item has to be made before knowing the next item or even if there will be another one.\" Another way to look at it, the algorithm doesn't see all the items before placing them into bins, and once the bin is considered full, or next item given can't fit into the current bin, it closes the bin, and creates a new one. You can probably see why this won't always give an optimal solution, as if an item that could fit into a bin that comes later in the queue it could end up in it's own bin, so we don't get the fewest number of bins, but something closer.\n",
    "\n",
    "If we want the approximation to be even closer to optimal, we can make use of an offline algorithm. Also from wikipedia,\n",
    "\"in the offline version of bin packing, the algorithm can see all the items before starting to place them into bins.\"  \n",
    "Offline algorithms generally (but not always) follow a similar technique of;\n",
    "1. \"Ordering the input list by descending size\" \n",
    "2. \"Run an online algorithm on the ordered list\"  \n"
   ]
  },
  {
   "cell_type": "markdown",
   "id": "3275f205-864e-43d0-ae34-f37aa76f6597",
   "metadata": {},
   "source": [
    "The algorithm we'll make use of comes from the stackoverflow user \"rocksportrocker\", with some minor modifications. Link below,\n",
    "\n",
    "https://stackoverflow.com/questions/7392143/python-implementations-of-packing-algorithm\n",
    "\n",
    "This solution uses the First-Fit-Decreasing algorithm. First-Fit is a online algorithm that \"keeps all bins open, in the order in which they were opened. It attempts to place each new item into the **first** bin in which it fits\". The decreasing part of the name is also literal as it refers to the order of the items when/at input.\n",
    "\n",
    "The below solution uses a python object class (Bin) to act as storage of the bins plus the running sum "
   ]
  },
  {
   "cell_type": "code",
   "execution_count": 3,
   "id": "b8921e73-521a-408c-99ac-c38219260576",
   "metadata": {
    "tags": []
   },
   "outputs": [],
   "source": [
    "\"\"\" Partition a list into sublists whose sums don't exceed a maximum \n",
    "    using a First Fit Decreasing algorithm.\n",
    "\"\"\"\n",
    "\n",
    "class Bin(object):\n",
    "    \"\"\" Container for items that keeps a running sum \"\"\"\n",
    "    def __init__(self):\n",
    "        self.items = []\n",
    "        self.sum = 0\n",
    "\n",
    "    def append(self, item):\n",
    "        self.items.append(item)\n",
    "        self.sum += item[0]\n",
    "\n",
    "    def __str__(self):\n",
    "        \"\"\" Printable representation \"\"\"\n",
    "        return f'Bin(sum={self.sum}, items={str(self.items)})'\n",
    "\n",
    "\n",
    "def pack(values, maxValue):\n",
    "    values = sorted(values,reverse=True)\n",
    "    bins = []\n",
    "\n",
    "    for item in values:\n",
    "        # Try to fit item into a bin\n",
    "        for bin in bins:\n",
    "            if bin.sum + item[0] <= maxValue:\n",
    "                bin.append(item)\n",
    "                break\n",
    "        else:\n",
    "            # item didn't fit into any bin, start a new bin\n",
    "            bin = Bin()\n",
    "            bin.append(item)\n",
    "            bins.append(bin)\n",
    "\n",
    "    return bins\n",
    "\n",
    "\n",
    "def packAndShow(aList, maxValue):\n",
    "    \"\"\" Pack a list into bins and show the result \"\"\"\n",
    "    print(f'List with sum {sum(x[0] for x in aList)}, requires at least {(sum(x[0] for x in aList)+maxValue-1)/maxValue} bins')\n",
    "\n",
    "    bins = pack(aList, maxValue)\n",
    "\n",
    "    print('Solution using', len(bins), 'bins:')\n",
    "    for bin in bins:\n",
    "        print(bin)"
   ]
  },
  {
   "cell_type": "markdown",
   "id": "95b84d00-80f9-49dd-90e3-f12c81e8d77e",
   "metadata": {},
   "source": [
    "Now, lets use the list of items and test list and see the above algorithm in action."
   ]
  },
  {
   "cell_type": "code",
   "execution_count": 4,
   "id": "641bc84f-78d4-4e4f-80fe-94e0da608d67",
   "metadata": {
    "tags": []
   },
   "outputs": [
    {
     "name": "stdout",
     "output_type": "stream",
     "text": [
      "List with sum 46, requires at least 5.5 bins\n",
      "Solution using 5 bins:\n",
      "Bin(sum=10, items=[(10, 'item2')])\n",
      "Bin(sum=10, items=[(10, 'item2')])\n",
      "Bin(sum=10, items=[(7, 'item7'), (3, 'item5')])\n",
      "Bin(sum=10, items=[(5, 'item6'), (4, 'item3'), (1, 'item4')])\n",
      "Bin(sum=6, items=[(4, 'item3'), (2, 'item1')])\n"
     ]
    }
   ],
   "source": [
    "packAndShow(test, max_weight)"
   ]
  },
  {
   "cell_type": "markdown",
   "id": "d16b052c-e6dc-46c8-ae78-878aeac8710b",
   "metadata": {},
   "source": [
    "Success! This only scrathes the surface, a quick look at the wikipedia article for bin-packing has algorithms like Next Fit, Next-k-fit, Best-Fit, Next-fit-decreasing, Modified first-fit-decreasing, etc. There are related problems like 2D and 3D bin-packing where the volume and/or dimensions are considered, or others like the inverse bin-packing, maximum resource bin-packing, guillotine cutting, etc.\n",
    "\n",
    "Hopefully this has shown why bin-packing is so difficult but also heavily researched. But what happens when we only have one bin but want to maximise the items in the value of items in the bin, where the items have both a weight and a value. From bin-packing we now move to the Knapsack problem."
   ]
  },
  {
   "cell_type": "markdown",
   "id": "4661c75a-acbb-4ad7-9e93-c1d58c7f58fa",
   "metadata": {},
   "source": [
    "## The Knapsack Problem \n",
    "\n"
   ]
  },
  {
   "cell_type": "markdown",
   "id": "53ee3113-0252-4daa-85dd-e3bda7f8b46f",
   "metadata": {},
   "source": [
    "From the associated wikipedia article,  \n",
    "\"Given a set of items, each with a weight and a value, determine which items to include in the collection so that the total weight is less than or equal to a given limit and the total value is as large as possible.\"\n",
    "\n",
    "This knapsack in the name comes from the version of the problem where an individual has one knapsack and must fill it with the most valuable items. Similar to bin-packing, the knapsack problem is NP-hard, so while there are no known algorithms that give an optimal and fast solution, there exist many algorithms for finding an approximate solution, some degree close to optimal in a reasonable time. "
   ]
  },
  {
   "cell_type": "markdown",
   "id": "a8fca5f8-d8fc-4661-9a2d-32dcaf1fff69",
   "metadata": {},
   "source": [
    "One algorithm to solve the knapsack algorithm comes from Dr. George Bernard Dantzig, well known in operations research and developing the simplex method for solving linear programming problems, with contributions the fields of industrial engineering, operations research, computer science, economics, and statistics.  \n",
    "\n",
    "Dr. Dantzig proposed a greedy approximation algorithm to solve the unbounded knapsack problem, where there are an unlimited number of each item being considered. His version sorts the items in decreasing order of value per unit of weight, this reduction using the value divided by the weight of the object makes it resemble the bin-packing problem. \"It then proceeds to insert them into the sack, starting with as many copies as possible of the first kind of item until there is no longer space in the sack for more.\" However, when the supply of items is limited this algorithm can be far from optimal. The fix for the bounded problem, and for bettering the approximation, modifies the algorithm to make two different lists of solutions and use a concept from mixed integer programming called LP-relaxation. As the previous concepts are beyond my current level of knowledge/skill I will be skipping an indepth analysis. "
   ]
  },
  {
   "cell_type": "markdown",
   "id": "9b7294cf-9be5-4b83-99e0-fdc23757ef20",
   "metadata": {},
   "source": [
    "**Side note: What is a greedy approximation algorithm** \n",
    "\n",
    "From wikipedia, \"A greedy algorithm is any algorithm that follows the problem-solving heuristic of making the locally optimal choice at each stage. In many problems, a greedy strategy does not produce an optimal solution, but a greedy heuristic can yield locally optimal solutions that approximate a globally optimal solution in a reasonable amount of time.\"\n",
    "\n",
    "In essence, a greedy algorithm uses some heuristic to find an optimal solution for a smaller part of the problem, such as the decisions made in which item is added to a bin. By picking the optimal solution at each step, it approximates and/or finds the optimal solution for the entire problem when each step is added together. This does mean the algorithm only considers the choice infront of it, never reconsidering past choices. Methods like dynamic programming consider all choices made from past to current, but that is a topic for a whole other project and notebook."
   ]
  },
  {
   "cell_type": "markdown",
   "id": "25e50746-5c11-449b-9529-df465998077b",
   "metadata": {},
   "source": [
    "Instead of attempting a fully modified greedy algorithm for the knapsack problem we will use the modified code from user Gareth Rees to answer the stack overflow question at,  \n",
    "https://codereview.stackexchange.com/questions/62344/functional-knapsack-problem-in-python\n",
    "\n",
    "The below code uses the greedy algorithm initially proposed by Dantzig. While the solution could still be optimal, it's not guaranteed."
   ]
  },
  {
   "cell_type": "code",
   "execution_count": 5,
   "id": "d20cc059-3e21-46ae-98c6-db938aeab0be",
   "metadata": {
    "tags": []
   },
   "outputs": [],
   "source": [
    "from collections import namedtuple\n",
    "\n",
    "Item = namedtuple('Item', 'name weight value'.split())\n",
    "\n",
    "ITEMS = [\n",
    "    Item(\"map\", 9, 150),\n",
    "    Item(\"compass\", 13, 35),\n",
    "    Item(\"water\", 153, 200),\n",
    "    Item(\"sandwich\", 50, 160),\n",
    "    Item(\"glucose\", 15, 60),\n",
    "    Item(\"tin\", 68, 45),\n",
    "    Item(\"banana\", 27, 60),\n",
    "    Item(\"apple\", 39, 40),\n",
    "    Item(\"cheese\", 23, 30),\n",
    "    Item(\"beer\", 52, 10),\n",
    "    Item(\"suntan cream\", 11, 70),\n",
    "    Item(\"camera\", 32, 30),\n",
    "    Item(\"t-shirt\", 24, 15),\n",
    "    Item(\"trousers\", 48, 10),\n",
    "    Item(\"umbrella\", 73, 40),\n",
    "    Item(\"waterproof trousers\", 42, 70),\n",
    "    Item(\"waterproof overclothes\", 43, 75),\n",
    "    Item(\"note-case\", 22, 80),\n",
    "    Item(\"sunglasses\", 7, 20),\n",
    "    Item(\"towel\", 18, 12),\n",
    "    Item(\"socks\", 4, 50),\n",
    "    Item(\"book\", 30, 10),\n",
    "    ]\n",
    "\n",
    "def efficiency(item):\n",
    "    \"\"\"Return efficiency of item (its value per unit weight).\"\"\"\n",
    "    return float(item.value) / float(item.weight)\n",
    "\n",
    "def packing(items=ITEMS, max_weight=400):\n",
    "    \"\"\"Return a list of items with the maximum value, subject to the\n",
    "    constraint that their combined weight must not exceed max_weight.\n",
    "\n",
    "    \"\"\"    \n",
    "    def pack(item):\n",
    "        # Attempt to pack item; return True if successful.\n",
    "        if item.weight <= pack.max_weight:\n",
    "            pack.max_weight -= item.weight\n",
    "            return True\n",
    "        else:\n",
    "            return False\n",
    "\n",
    "    pack.max_weight = max_weight\n",
    "    return list(filter(pack, sorted(items, key=efficiency, reverse=True)))"
   ]
  },
  {
   "cell_type": "markdown",
   "id": "ef3c3160-38f1-4c06-9c84-7c17ed3337e7",
   "metadata": {},
   "source": [
    "Lets run the above algorithm using the preset max weight (400), and testing with a weight one-fourth the size (100). We'll also make use of the example list of items given on the stackoverflow post by Rees."
   ]
  },
  {
   "cell_type": "code",
   "execution_count": 6,
   "id": "db777c37-77ce-4077-9235-028fbacca85a",
   "metadata": {
    "tags": []
   },
   "outputs": [
    {
     "data": {
      "text/plain": [
       "([Item(name='map', weight=9, value=150),\n",
       "  Item(name='socks', weight=4, value=50),\n",
       "  Item(name='suntan cream', weight=11, value=70),\n",
       "  Item(name='glucose', weight=15, value=60),\n",
       "  Item(name='note-case', weight=22, value=80),\n",
       "  Item(name='sandwich', weight=50, value=160),\n",
       "  Item(name='sunglasses', weight=7, value=20),\n",
       "  Item(name='compass', weight=13, value=35),\n",
       "  Item(name='banana', weight=27, value=60),\n",
       "  Item(name='waterproof overclothes', weight=43, value=75),\n",
       "  Item(name='waterproof trousers', weight=42, value=70),\n",
       "  Item(name='water', weight=153, value=200)],\n",
       " [Item(name='map', weight=9, value=150),\n",
       "  Item(name='socks', weight=4, value=50),\n",
       "  Item(name='suntan cream', weight=11, value=70),\n",
       "  Item(name='glucose', weight=15, value=60),\n",
       "  Item(name='note-case', weight=22, value=80),\n",
       "  Item(name='sunglasses', weight=7, value=20),\n",
       "  Item(name='compass', weight=13, value=35),\n",
       "  Item(name='towel', weight=18, value=12)])"
      ]
     },
     "execution_count": 6,
     "metadata": {},
     "output_type": "execute_result"
    }
   ],
   "source": [
    "packing(), packing(max_weight = 100)"
   ]
  },
  {
   "cell_type": "markdown",
   "id": "b09485ba-f7cc-42e0-8c6b-db469949f2cd",
   "metadata": {},
   "source": [
    "The above algorithm does gives us approximate solutons, and while maybe not optimal, are very close. While there is an algorithm using dynamic programming that give a pseudopolynomial time solution, similar to mized integer, is a bit beyond my level of understanding and could be it's own project notebook."
   ]
  },
  {
   "cell_type": "markdown",
   "id": "bcb5e477-a050-43bf-b854-6d0d5deaf231",
   "metadata": {},
   "source": [
    "I hope this shows why the Knapsack problem is both so incredibly interesting but also complicated. Looking to ones own life you might find situations or moments where the knapsack problem reared it's head, but it was small enough (at least hopefully) that through trial and error you found your solution. But, as is the case in much of science and mathematics, the questions of what if and how big can we go, come and open a door to some truly fascinating and complex problems."
   ]
  },
  {
   "cell_type": "markdown",
   "id": "f3a629b4-b8aa-4a0a-b3b2-4fa4ea488305",
   "metadata": {},
   "source": [
    "## Run Your Own Test\n",
    "\n",
    "Below is the variables for each problem left blank (with a starter item) for you to test how the algorithms perform depending on the inputs. Enjoy."
   ]
  },
  {
   "cell_type": "code",
   "execution_count": null,
   "id": "53e54389-ca8a-4b96-ace7-0dbf68e0e36d",
   "metadata": {},
   "outputs": [],
   "source": [
    "test = [(2, 'item1'), ]\n",
    "\n",
    "bin_max_weight = \n",
    "\n",
    "packAndShow(test, bin_max_weight)"
   ]
  },
  {
   "cell_type": "code",
   "execution_count": null,
   "id": "b95b95a5-6fa9-4ae1-918d-b677f5d38d6a",
   "metadata": {},
   "outputs": [],
   "source": [
    "Item = namedtuple('Item', 'name weight value'.split())\n",
    "\n",
    "ITEMS_test = [\n",
    "    Item(\"map\", 9, 150),\n",
    "  \n",
    "    ]\n",
    "\n",
    "knapsack_max_weight = \n",
    "\n",
    "packing(items=ITEMS_test, max_weight=knapsack_max_weight)"
   ]
  }
 ],
 "metadata": {
  "kernelspec": {
   "display_name": "Python 3 (ipykernel)",
   "language": "python",
   "name": "python3"
  },
  "language_info": {
   "codemirror_mode": {
    "name": "ipython",
    "version": 3
   },
   "file_extension": ".py",
   "mimetype": "text/x-python",
   "name": "python",
   "nbconvert_exporter": "python",
   "pygments_lexer": "ipython3",
   "version": "3.11.4"
  }
 },
 "nbformat": 4,
 "nbformat_minor": 5
}
