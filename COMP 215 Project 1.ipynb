{
  "cells": [
    {
      "cell_type": "markdown",
      "id": "5d97a753-5eee-439a-a629-93da4823ff58",
      "metadata": {
        "tags": [],
        "id": "5d97a753-5eee-439a-a629-93da4823ff58"
      },
      "source": [
        "# Project: Watts-Strogatz Graphs\n",
        "\n",
        "For: COMP 215 Spring 2024  \n",
        "By: Stephen Bowman  \n",
        "\n",
        "The following experiment will showcase Watts-Strogatz graphs in modelling Small World graphs and take the reader through the proof seen in Think Complexity by Allen Downey.  \n",
        "\n",
        "This experiment will use code and information from Chapter 5 of Allen Downey's book Think Complexity, 2nd Edition."
      ]
    },
    {
      "cell_type": "markdown",
      "id": "33037415-e3ca-4c91-aef1-e3f728ca7455",
      "metadata": {
        "tags": [],
        "id": "33037415-e3ca-4c91-aef1-e3f728ca7455"
      },
      "source": [
        "## Background\n",
        "\n",
        "In the paper \"Collective dynamics of ‘small-world’ networks\" Duncan Watts and Steven Strogatz proposed a generative model, or model \"that tries to explain a phenomenon by modeling the process that builds or leads to the phenomenon\", to help explain small world graphs in the context of social networks. The model starts with a regular graph with n nodes each connected to k neighbors. Then, the graph can be rewired with random edges with a parameter, p, that controls the randomness of the graph and if an edge will be rewired. If p = 0 the graph is regular, when p = 1 the graph is completely random. This will become important later on.\n"
      ]
    },
    {
      "cell_type": "markdown",
      "id": "972683a7-a9b5-4ff3-a415-452bf6139a6e",
      "metadata": {
        "id": "972683a7-a9b5-4ff3-a415-452bf6139a6e"
      },
      "source": [
        "## The Small World Experiment and Path Length\n",
        "\n",
        "Before explaining Watts and Stogatz's experiment it will be beneficial to define what is a small world graph. The American social psychologist Stanley Milgram proposed the theory of small world graphs from his own experiment to study the structure of social networks. As described by Allen Downey,  \n",
        "\n",
        "\"In the Small World Experiment, Milgram sent a package to several randomly-chosen people in Wichita, Kansas, with instructions asking them to forward an enclosed letter to a target person, identified by name and occupation, in Sharon, Massachusetts. The subjects were told that they could mail the letter directly to the target person only if they knew him personally; otherwise they were instructed to send it, and the same instructions, to a relative or friend they thought would be more likely to know the target person.\n",
        "\n",
        "Many of the letters were never delivered, but for the ones that were the average path length — the number of times the letters were forwarded — was about six. This result was taken to confirm previous observations (and speculations) that the typical distance between any two people in a social network is about “six degrees of separation”.\n",
        "\n",
        "For many this might sound surprising, one might associate who they know with distance, whether they live in the same province, city, block of town, and the likelihood that they know those people would decrease in relation. But that average of six degrees had letters travelling to other cities, not just within the starting town, going against the idea that social networks were localized and making path lengths not proportional to geogrphical distance. This leads us into clustering."
      ]
    },
    {
      "cell_type": "markdown",
      "id": "6d160860-c1f9-4114-add4-59b183b7a5e0",
      "metadata": {
        "id": "6d160860-c1f9-4114-add4-59b183b7a5e0"
      },
      "source": [
        "## Clustering\n",
        "\n",
        "From Allen Downey,\n",
        "\n",
        "\"Clustering is a measure of the “cliquishness” of the graph. In a graph, a clique is a subset of nodes that are all connected to each other; in a social network, a clique is a set of people who are all friends with each other. Watts and Strogatz defined a clustering coefficient that quantifies the likelihood that two nodes that are connected to the same node are also connected to each other.\"\n",
        "\n",
        "While the measure is useful it's not useful in and of itself as regular graphs are shown to have high clustering and high path length, with random graphs the opposite. This initial fact is what lead to Watts and Stogatz's creating the generative model described at the start."
      ]
    },
    {
      "cell_type": "markdown",
      "id": "4cbbb790-e75e-4fd4-8e28-f562e6bb0db7",
      "metadata": {
        "tags": [],
        "id": "4cbbb790-e75e-4fd4-8e28-f562e6bb0db7"
      },
      "source": [
        "## Ring Lattice Graph\n",
        "\n",
        "For their experiment Watts and Stogatz's chose the regular graph called a ring lattice (shown later on). A regular graph has every node attached to everyother node, with the number of neighbors being called the degree of the node.  \n",
        "\n",
        "First, we import the required python libraries for performing the experiment."
      ]
    },
    {
      "cell_type": "code",
      "execution_count": 2,
      "id": "c12cb435-fd8e-4c58-a10c-d003f873df00",
      "metadata": {
        "tags": [],
        "id": "c12cb435-fd8e-4c58-a10c-d003f873df00"
      },
      "outputs": [],
      "source": [
        "%matplotlib inline\n",
        "import matplotlib.pyplot as plt\n",
        "import networkx as nx\n",
        "import numpy as np\n",
        "import seaborn as sns\n",
        "\n",
        "np.random.seed(17)"
      ]
    },
    {
      "cell_type": "markdown",
      "id": "3b43eb8e-b3a3-4cdc-b38c-44e9f62a96a4",
      "metadata": {
        "id": "3b43eb8e-b3a3-4cdc-b38c-44e9f62a96a4"
      },
      "source": [
        "For any graph we will need a list of nodes and edges. Below is a generator function that, from Allen Downey, that takes a list of nodes and a number to specify how many edges to give each node."
      ]
    },
    {
      "cell_type": "code",
      "execution_count": 3,
      "id": "59873fc1-d256-4e2a-9ace-d4986c9cc5a3",
      "metadata": {
        "tags": [],
        "id": "59873fc1-d256-4e2a-9ace-d4986c9cc5a3"
      },
      "outputs": [],
      "source": [
        "def adjacent_edges(nodes, halfk):\n",
        "    \"\"\"Yields edges between each node and `halfk` neighbors.\n",
        "\n",
        "    halfk: number of edges from each node\n",
        "    \"\"\"\n",
        "    n = len(nodes)\n",
        "    for i, u in enumerate(nodes):\n",
        "        for j in range(i+1, i+halfk+1):\n",
        "            v = nodes[j % n]\n",
        "            yield u, v"
      ]
    },
    {
      "cell_type": "markdown",
      "id": "c89a571d-fdcd-45fb-8152-175bbc0af619",
      "metadata": {
        "id": "c89a571d-fdcd-45fb-8152-175bbc0af619"
      },
      "source": [
        "With the above function Allen Downey then crafts the function make_ring_lattice, generating a ring lattice graph by passing it n edges and degree k."
      ]
    },
    {
      "cell_type": "code",
      "execution_count": 4,
      "id": "96ef0408-c72c-4485-8adc-f6d56c0e91df",
      "metadata": {
        "tags": [],
        "id": "96ef0408-c72c-4485-8adc-f6d56c0e91df"
      },
      "outputs": [],
      "source": [
        "def make_ring_lattice(n, k):\n",
        "    \"\"\"Makes a ring lattice with `n` nodes and degree `k`.\n",
        "\n",
        "    Note: this only works correctly if k is even.\n",
        "\n",
        "    n: number of nodes\n",
        "    k: degree of each node\n",
        "    \"\"\"\n",
        "    G = nx.Graph()\n",
        "    nodes = range(n)\n",
        "    G.add_nodes_from(nodes)\n",
        "    G.add_edges_from(adjacent_edges(nodes, k//2))\n",
        "    return G"
      ]
    },
    {
      "cell_type": "markdown",
      "id": "bc36a7ee-d71e-44b6-822e-b9f774b00b11",
      "metadata": {
        "id": "bc36a7ee-d71e-44b6-822e-b9f774b00b11"
      },
      "source": [
        "Now we can draw a ring lattice graph, in the below using 10 nodes with degree 4 (used by Downey in Think Complexity 2nd. Edition)"
      ]
    },
    {
      "cell_type": "code",
      "execution_count": 5,
      "id": "a3e053cc-77c9-44fc-8e99-310ec01808a0",
      "metadata": {
        "tags": [],
        "id": "a3e053cc-77c9-44fc-8e99-310ec01808a0",
        "outputId": "ae559334-da69-4fbc-f03e-fc1a303b17cc",
        "colab": {
          "base_uri": "https://localhost:8080/",
          "height": 516
        }
      },
      "outputs": [
        {
          "output_type": "display_data",
          "data": {
            "text/plain": [
              "<Figure size 640x480 with 1 Axes>"
            ],
            "image/png": "[encoded data removed]"
          },
          "metadata": {}
        }
      ],
      "source": [
        "lattice = make_ring_lattice(10, 4)\n",
        "\n",
        "nx.draw_circular(lattice,\n",
        "                 node_color='C0',\n",
        "                 node_size=1000,\n",
        "                 with_labels=True)\n",
        "\n",
        "plt.show()"
      ]
    },
    {
      "cell_type": "markdown",
      "id": "b9d484b0-300c-4fff-8bbe-71669b6364ba",
      "metadata": {
        "id": "b9d484b0-300c-4fff-8bbe-71669b6364ba"
      },
      "source": [
        "## Making a Watts-Strogatz (WS) Graphs\n",
        "\n",
        "Now that we can generate a ring lattice graph we can start to test \"rewiring\" the edges. For this we will need some more helper functions. In the experiment by Watts and Strogatz they \"consider the edges in a particular order and rewire each one with probability p\". From here if an edge is rewired we leave the first node and choose the second at random. Watts and Strogatz did not allow for self loops, an edge exiting and then entering the same node, and multiple edges, where two nodes could have more than one edge between them, for example. Those conditions keep it inline with the definition of a simple graph.\n",
        "\n",
        "Below, Downey defines a set of functions to generate a Watts-Strogatz graph and rewire them."
      ]
    },
    {
      "cell_type": "code",
      "execution_count": 6,
      "id": "8539f5df-9dde-4e0a-a48d-4e04e3741760",
      "metadata": {
        "tags": [],
        "id": "8539f5df-9dde-4e0a-a48d-4e04e3741760"
      },
      "outputs": [],
      "source": [
        "def flip(p):\n",
        "    \"\"\"Returns True with probability `p`.\"\"\"\n",
        "    return np.random.random() < p\n",
        "\n",
        "def rewire(G, p):\n",
        "    \"\"\"Rewires each edge with probability `p`.\n",
        "\n",
        "    G: Graph\n",
        "    p: float\n",
        "    \"\"\"\n",
        "    nodes = set(G)\n",
        "    for u, v in G.edges():\n",
        "        if flip(p):\n",
        "            choices = nodes - {u} - set(G[u])\n",
        "            new_v = np.random.choice(list(choices))\n",
        "            G.remove_edge(u, v)\n",
        "            G.add_edge(u, new_v)\n",
        "\n",
        "def make_ws_graph(n, k, p):\n",
        "    \"\"\"Makes a Watts-Strogatz graph.\n",
        "\n",
        "    n: number of nodes\n",
        "    k: degree of each node\n",
        "    p: probability of rewiring an edge\n",
        "    \"\"\"\n",
        "    ws = make_ring_lattice(n, k)\n",
        "    rewire(ws, p)\n",
        "    return ws"
      ]
    },
    {
      "cell_type": "markdown",
      "id": "1259f750-d845-4d03-95eb-2a6d36ceed78",
      "metadata": {
        "id": "1259f750-d845-4d03-95eb-2a6d36ceed78"
      },
      "source": [
        "First, a flip function takes the probability and uses the numpy random.random function to produce a number between 0 and 1, compare it to the probability, and return True when the random number is less than the given probability, False otherwise. He then defines a rewire function, using the flip function, to go to each edge and rewire it if the random choice comes back true, within the probability specified. The function make_ws_graph generates, as implied, a Watts-Strogatz graph with some number of nodes, degree for each node, and probability for rewiring the edge, using the previous two functions.\n",
        "\n",
        "Of note, the above method does not consider the edges originally specified by Watts and Strogatz. Thankfully, this doesn't affect the result.\n",
        "\n",
        "Below is the test done by Downey, where n and k are fixed, but p changes."
      ]
    },
    {
      "cell_type": "code",
      "execution_count": 7,
      "id": "6c205703-f0d8-43bc-be52-baa10e924488",
      "metadata": {
        "tags": [],
        "id": "6c205703-f0d8-43bc-be52-baa10e924488",
        "outputId": "ce90df85-f093-4aed-e57c-af700941a397",
        "colab": {
          "base_uri": "https://localhost:8080/",
          "height": 406
        }
      },
      "outputs": [
        {
          "output_type": "display_data",
          "data": {
            "text/plain": [
              "<Figure size 640x480 with 3 Axes>"
            ],
            "image/png": "[encoded data removed]"
          },
          "metadata": {}
        }
      ],
      "source": [
        "n = 10\n",
        "k = 4\n",
        "ns = 100\n",
        "\n",
        "plt.subplot(1,3,1)\n",
        "ws = make_ws_graph(n, k, 0)\n",
        "nx.draw_circular(ws, node_size=ns)\n",
        "plt.axis('equal')\n",
        "\n",
        "plt.subplot(1,3,2)\n",
        "ws = make_ws_graph(n, k, 0.2)\n",
        "nx.draw_circular(ws, node_size=ns)\n",
        "plt.axis('equal')\n",
        "\n",
        "plt.subplot(1,3,3)\n",
        "ws = make_ws_graph(n, k, 1.0)\n",
        "nx.draw_circular(ws, node_size=ns)\n",
        "plt.axis('equal')\n",
        "\n",
        "plt.show('figs/chap04-2')"
      ]
    },
    {
      "cell_type": "markdown",
      "id": "cc9de790-0df3-42bc-9486-13d415ca1777",
      "metadata": {
        "id": "cc9de790-0df3-42bc-9486-13d415ca1777"
      },
      "source": [
        "We see that with a probability of 0, the graph is a regular ring lattice, while a probability of 1 gives us a completely random set of edges for the original nodes. The middle graph is for a probability of 0.2, or 20%."
      ]
    },
    {
      "cell_type": "markdown",
      "id": "03ae3c08-79f2-484b-bf99-bb1e037ca125",
      "metadata": {
        "id": "03ae3c08-79f2-484b-bf99-bb1e037ca125"
      },
      "source": [
        "## Compute the Clustering Coefficient\n",
        "\n",
        "As mentioned at the begining, the clustering coefficient \"quantifies the tendency for the nodes to form cliques\", where a clique is defiend to be a set of nodes that are completely connected, every node is connected to every other node by some edge.\n",
        "\n",
        "........\n",
        "\n"
      ]
    },
    {
      "cell_type": "markdown",
      "id": "25a9104d-7591-4d51-a892-6cf43987ec64",
      "metadata": {
        "id": "25a9104d-7591-4d51-a892-6cf43987ec64"
      },
      "source": [
        "First we will need to a generator function to give us back all possible pairings for some set of nodes. Below is the function all_pairs provided by Downey."
      ]
    },
    {
      "cell_type": "code",
      "execution_count": 8,
      "id": "70ad432f-dd98-4e8e-9d9f-8909a9bb97df",
      "metadata": {
        "tags": [],
        "id": "70ad432f-dd98-4e8e-9d9f-8909a9bb97df"
      },
      "outputs": [],
      "source": [
        "def all_pairs(nodes):\n",
        "    \"\"\"Generates all pairs of nodes.\"\"\"\n",
        "    for i, u in enumerate(nodes):\n",
        "        for j, v in enumerate(nodes):\n",
        "            if i < j:\n",
        "                yield u, v"
      ]
    },
    {
      "cell_type": "markdown",
      "id": "38078d7e-444c-4e62-b0c6-f895cb59259c",
      "metadata": {
        "id": "38078d7e-444c-4e62-b0c6-f895cb59259c"
      },
      "source": [
        "Next, we need to calculate the local clustering coefficient, Cu, for every node before we can find the \"network average clustering coefficient\", C, or just the clustering coefficient for the graph. From graph theory, we know that for any node u with k neighbors, if all of the neighbors are connected to each other, then there would be k(k-1)/2 edges. The fraction of those that exist is the Cu for said node u.\n",
        "\n",
        "The function below, from Downey, computes Cu for a given node u on some graph G. Take note of the return np.nan, which is a special value \"Not a Number\", for when the node has fewer than 2 neighbors. With less than 2 neighbors we would end up with a fractional number of edges, which is not possible for simpel graphs as defined for the experiment. Plus, it would make even less sense for a social network.|"
      ]
    },
    {
      "cell_type": "code",
      "execution_count": 9,
      "id": "78557e1b-15a1-4e92-abc3-d23a43f619ce",
      "metadata": {
        "tags": [],
        "id": "78557e1b-15a1-4e92-abc3-d23a43f619ce"
      },
      "outputs": [],
      "source": [
        "def node_clustering(G, u):\n",
        "    \"\"\"Computes local clustering coefficient for `u`.\n",
        "\n",
        "    G: Graph\n",
        "    u: node\n",
        "\n",
        "    returns: float\n",
        "    \"\"\"\n",
        "    neighbors = G[u]\n",
        "    k = len(neighbors)\n",
        "    if k < 2:\n",
        "        return np.nan\n",
        "\n",
        "    possible = k * (k-1) / 2\n",
        "    exist = 0\n",
        "    for v, w in all_pairs(neighbors):\n",
        "        if G.has_edge(v, w):\n",
        "            exist +=1\n",
        "    return exist / possible\n"
      ]
    },
    {
      "cell_type": "markdown",
      "id": "9cf98c60-c050-4130-9a74-e670dd4fbccf",
      "metadata": {
        "id": "9cf98c60-c050-4130-9a74-e670dd4fbccf"
      },
      "source": [
        "With the above function we can now find the clustering coefficient for the whole graph, or C. Below is the code supplied by Downey to do just that."
      ]
    },
    {
      "cell_type": "code",
      "execution_count": 10,
      "id": "5e89dfdf-d7a6-4501-a6b0-e346dde1e8e5",
      "metadata": {
        "tags": [],
        "id": "5e89dfdf-d7a6-4501-a6b0-e346dde1e8e5"
      },
      "outputs": [],
      "source": [
        "def clustering_coefficient(G):\n",
        "    \"\"\"Average of the local clustering coefficients.\n",
        "\n",
        "    G: Graph\n",
        "\n",
        "    returns: float\n",
        "    \"\"\"\n",
        "    cu = [node_clustering(G, node) for node in G]\n",
        "    return np.nanmean(cu)"
      ]
    },
    {
      "cell_type": "markdown",
      "id": "758a3e29-77b4-4fa4-94ef-e7bab26e93fe",
      "metadata": {
        "id": "758a3e29-77b4-4fa4-94ef-e7bab26e93fe"
      },
      "source": [
        "Let's now use the example from Think Complexity by Downey to check the above code. We'll make a regular rign lattice with 10 nodes and degree 4 for each."
      ]
    },
    {
      "cell_type": "code",
      "execution_count": 11,
      "id": "5a05546b-a47e-4c30-9ec7-80255543a885",
      "metadata": {
        "tags": [],
        "id": "5a05546b-a47e-4c30-9ec7-80255543a885"
      },
      "outputs": [],
      "source": [
        "lattice = make_ring_lattice(10, 4)"
      ]
    },
    {
      "cell_type": "markdown",
      "id": "4c9f057c-192c-4ee6-91de-3bc4f6731be3",
      "metadata": {
        "id": "4c9f057c-192c-4ee6-91de-3bc4f6731be3"
      },
      "source": [
        "The local clustering coefficient for a node from \"lattice\" should be 0.5, lets check that."
      ]
    },
    {
      "cell_type": "code",
      "execution_count": 12,
      "id": "ab4734d6-0668-4593-8469-2b439e2525e4",
      "metadata": {
        "tags": [],
        "id": "ab4734d6-0668-4593-8469-2b439e2525e4",
        "outputId": "b6937e33-8db8-4e74-baa5-d9ea4b1d99ec",
        "colab": {
          "base_uri": "https://localhost:8080/"
        }
      },
      "outputs": [
        {
          "output_type": "execute_result",
          "data": {
            "text/plain": [
              "0.5"
            ]
          },
          "metadata": {},
          "execution_count": 12
        }
      ],
      "source": [
        "node_clustering(lattice, 1)"
      ]
    },
    {
      "cell_type": "markdown",
      "id": "cd31a355-eb71-4270-a196-944f4cc6106c",
      "metadata": {
        "id": "cd31a355-eb71-4270-a196-944f4cc6106c"
      },
      "source": [
        "Perfect! We know that for a regular ring lattice graph the local clustering coefficient should equal the networks. Below confirms that fact and shows our functions work as intended."
      ]
    },
    {
      "cell_type": "code",
      "execution_count": 13,
      "id": "22735163-e030-4da8-a0c8-94de9da366ce",
      "metadata": {
        "tags": [],
        "id": "22735163-e030-4da8-a0c8-94de9da366ce",
        "outputId": "4f9cb5ee-dc0e-4b14-8c92-14d0b12758af",
        "colab": {
          "base_uri": "https://localhost:8080/"
        }
      },
      "outputs": [
        {
          "output_type": "execute_result",
          "data": {
            "text/plain": [
              "0.5"
            ]
          },
          "metadata": {},
          "execution_count": 13
        }
      ],
      "source": [
        "clustering_coefficient(lattice)"
      ]
    },
    {
      "cell_type": "markdown",
      "id": "a1ceaf2d-fa2e-4cf4-a55e-e8e79b29ea8e",
      "metadata": {
        "id": "a1ceaf2d-fa2e-4cf4-a55e-e8e79b29ea8e"
      },
      "source": [
        "While true for the above test case, for other Watts-Strogatz graphs the local and network clustering coefficients will differ from each other. But with the above function we now need to find the path lengths for the graph."
      ]
    },
    {
      "cell_type": "markdown",
      "id": "6375fd5b-f760-4e4e-9d4f-33467175490b",
      "metadata": {
        "id": "6375fd5b-f760-4e4e-9d4f-33467175490b"
      },
      "source": [
        "## Shortest Path Lengths to Characteristic Path Length\n",
        "\n",
        "To find the characteristic path length, the \"average length of the shortest path between each pair of nodes\", we will have to find the path lengths for each node to every other node. NetworkX provides us a function to find the shortest path for every node, returning a dictionary keyed by target to the shortest path length from the source to that target, when only the source is provided (which we will do). The documentation for the function can be found at:\n",
        "https://networkx.org/documentation/stable/reference/algorithms/generated/networkx.algorithms.shortest_paths.generic.shortest_path_length.html\n",
        "\n",
        "The function from Downey takes a Graph as input and then returns a dictionary of the shortest path lengths."
      ]
    },
    {
      "cell_type": "code",
      "execution_count": 14,
      "id": "a1bc11b9-3699-40b8-8774-3ae480e0a99a",
      "metadata": {
        "tags": [],
        "id": "a1bc11b9-3699-40b8-8774-3ae480e0a99a"
      },
      "outputs": [],
      "source": [
        "def path_lengths(G):\n",
        "    length_iter = nx.shortest_path_length(G)\n",
        "    for source, dist_map in length_iter:\n",
        "        for dest, dist in dist_map.items():\n",
        "            yield dist"
      ]
    },
    {
      "cell_type": "markdown",
      "id": "8bbfc800-ca65-45bd-986e-78f108c8e162",
      "metadata": {
        "id": "8bbfc800-ca65-45bd-986e-78f108c8e162"
      },
      "source": [
        "With path_lenghts, we can then make a function to compute the mean, or average, of the path lengths to find the characteristic path length."
      ]
    },
    {
      "cell_type": "code",
      "execution_count": 15,
      "id": "34fe8a97-a477-42f7-a40d-7374d63cc7a1",
      "metadata": {
        "tags": [],
        "id": "34fe8a97-a477-42f7-a40d-7374d63cc7a1"
      },
      "outputs": [],
      "source": [
        "def characteristic_path_length(G):\n",
        "    return np.mean(list(path_lengths(G)))"
      ]
    },
    {
      "cell_type": "markdown",
      "id": "d27bcd87-9ab9-48f8-b67c-44c70361111f",
      "metadata": {
        "id": "d27bcd87-9ab9-48f8-b67c-44c70361111f"
      },
      "source": [
        "Let's use the lattice graph from our clustering coefficient test and compute the characteristic path length for the graph."
      ]
    },
    {
      "cell_type": "code",
      "execution_count": 16,
      "id": "464213e4-b3bb-4d8a-95c1-701436793aef",
      "metadata": {
        "tags": [],
        "id": "464213e4-b3bb-4d8a-95c1-701436793aef",
        "outputId": "a5651250-7c8c-4159-ac3a-8c2573e1fe9d",
        "colab": {
          "base_uri": "https://localhost:8080/"
        }
      },
      "outputs": [
        {
          "output_type": "execute_result",
          "data": {
            "text/plain": [
              "1.5"
            ]
          },
          "metadata": {},
          "execution_count": 16
        }
      ],
      "source": [
        "characteristic_path_length(lattice)"
      ]
    },
    {
      "cell_type": "markdown",
      "id": "14dd30ca-5759-4c05-acb6-c0ad08eb747d",
      "metadata": {
        "id": "14dd30ca-5759-4c05-acb6-c0ad08eb747d"
      },
      "source": [
        "That result fits the expectation for the ring lattice, we have 10 nodes, and when choosing another node to traverse to, gives us the combinatoric defintion of 10 choose 2, with some being 1 edge and other 2 for traversal.\n",
        "\n",
        "What about for a simpler example, say the one given by Downey where he generates a ring lattice with 3 nodes with degree 2 for each. This is also the graph K3, or complete graph on 3 vertices/nodes."
      ]
    },
    {
      "cell_type": "code",
      "execution_count": 17,
      "id": "f0affacc-0b89-4a07-81ab-abb10f19a770",
      "metadata": {
        "tags": [],
        "id": "f0affacc-0b89-4a07-81ab-abb10f19a770",
        "outputId": "f7584726-e8f8-4a93-f400-951e15a098fd",
        "colab": {
          "base_uri": "https://localhost:8080/",
          "height": 516
        }
      },
      "outputs": [
        {
          "output_type": "display_data",
          "data": {
            "text/plain": [
              "<Figure size 640x480 with 1 Axes>"
            ],
            "image/png": "[encoded data removed]"
          },
          "metadata": {}
        }
      ],
      "source": [
        "lattice_k3 = make_ring_lattice(3, 2)\n",
        "\n",
        "nx.draw_circular(lattice_k3,\n",
        "                 node_color='C0',\n",
        "                 node_size=1000,\n",
        "                 with_labels=True)\n",
        "\n",
        "plt.show()"
      ]
    },
    {
      "cell_type": "code",
      "execution_count": 19,
      "id": "6ea65ca2-d85b-48ab-a888-46a98a9bc567",
      "metadata": {
        "tags": [],
        "id": "6ea65ca2-d85b-48ab-a888-46a98a9bc567",
        "outputId": "cd712225-0929-47d3-95a8-5294b48e2f10",
        "colab": {
          "base_uri": "https://localhost:8080/"
        }
      },
      "outputs": [
        {
          "output_type": "execute_result",
          "data": {
            "text/plain": [
              "[0, 1, 1, 0, 1, 1, 0, 1, 1]"
            ]
          },
          "metadata": {},
          "execution_count": 19
        }
      ],
      "source": [
        "list(path_lengths(lattice_k3))"
      ]
    },
    {
      "cell_type": "code",
      "execution_count": 18,
      "id": "97931945-060f-4a22-b91a-dd0b306b2f9f",
      "metadata": {
        "tags": [],
        "id": "97931945-060f-4a22-b91a-dd0b306b2f9f",
        "outputId": "703d4bb4-22bc-420a-e541-c8378f616258",
        "colab": {
          "base_uri": "https://localhost:8080/"
        }
      },
      "outputs": [
        {
          "output_type": "execute_result",
          "data": {
            "text/plain": [
              "0.6666666666666666"
            ]
          },
          "metadata": {},
          "execution_count": 18
        }
      ],
      "source": [
        "characteristic_path_length(lattice_k3)"
      ]
    },
    {
      "cell_type": "markdown",
      "id": "3bb4d461-93ed-43ff-a361-7c439386cf3a",
      "metadata": {
        "id": "3bb4d461-93ed-43ff-a361-7c439386cf3a"
      },
      "source": [
        "From the above result we know our new functions work, now we can run the experiment done by Watts-Strogatz."
      ]
    },
    {
      "cell_type": "markdown",
      "id": "2bcf87a1-9da7-4190-b1ba-b5e4eadf6f09",
      "metadata": {
        "id": "2bcf87a1-9da7-4190-b1ba-b5e4eadf6f09"
      },
      "source": [
        "## The Wattz-Strogatz Experiment\n",
        "\n",
        "Now that we have created the necessary functions/tools for replicating the experiment, \"which shows that for a range of values of , a WS graph has high clustering like a regular graph and short path lengths like a random graph\", we start by defining another function to generate a WS graph and compute its statistics, defined by Downey as run_one_graph."
      ]
    },
    {
      "cell_type": "code",
      "execution_count": 20,
      "id": "e212da4e-35fd-4518-b8d0-40e7bd6952a8",
      "metadata": {
        "tags": [],
        "id": "e212da4e-35fd-4518-b8d0-40e7bd6952a8"
      },
      "outputs": [],
      "source": [
        "def run_one_graph(n, k, p):\n",
        "    \"\"\"Makes a WS graph and computes its stats.\n",
        "\n",
        "    n: number of nodes\n",
        "    k: degree of each node\n",
        "    p: probability of rewiring\n",
        "\n",
        "    returns: tuple of (mean path length, clustering coefficient)\n",
        "    \"\"\"\n",
        "    ws = make_ws_graph(n, k, p)\n",
        "    mpl = characteristic_path_length(ws)\n",
        "    cc = clustering_coefficient(ws)\n",
        "    # print(mpl, cc)\n",
        "    return mpl, cc"
      ]
    },
    {
      "cell_type": "markdown",
      "id": "58f57878-8c99-4865-9b20-83df2dbd94b6",
      "metadata": {
        "id": "58f57878-8c99-4865-9b20-83df2dbd94b6"
      },
      "source": [
        "Our next function will run the experiment, aptly named by Downey as run_experiment. As mention by Downey, Watts and Strogatz ran the experiment with 1000 nodes where each one had degree 10. This will take time to run, but those will only be the default values, you can pass any n and k value to run_experiment."
      ]
    },
    {
      "cell_type": "code",
      "execution_count": 21,
      "id": "9028323b-7ac1-4e5d-a1bd-5a1b97288bbb",
      "metadata": {
        "tags": [],
        "id": "9028323b-7ac1-4e5d-a1bd-5a1b97288bbb"
      },
      "outputs": [],
      "source": [
        "def run_experiment(ps, n=1000, k=10, iters=20):\n",
        "    \"\"\"Computes stats for WS graphs with a range of `p`.\n",
        "\n",
        "    ps: sequence of `p` to try\n",
        "    n: number of nodes\n",
        "    k: degree of each node\n",
        "    iters: number of times to run for each `p`\n",
        "\n",
        "    returns:\n",
        "    \"\"\"\n",
        "    res = []\n",
        "    for p in ps:\n",
        "        print(p)\n",
        "        t = [run_one_graph(n, k, p) for _ in range(iters)]\n",
        "        means = np.array(t).mean(axis=0)\n",
        "        print(means)\n",
        "        res.append(means)\n",
        "    return np.array(res)"
      ]
    },
    {
      "cell_type": "markdown",
      "id": "13709473-745a-4521-b64f-40188eabacd3",
      "metadata": {
        "id": "13709473-745a-4521-b64f-40188eabacd3"
      },
      "source": [
        "Just some quick notes on the above function, to run the experiment for any p we need to provide a list of probabilites to try, ps in the above function. To generate a list of evenly space probabilities and a log scale we use the Numpy function logspace, but wait, why logspace you might ask? The simple answer is that the relation Watts and Strogatz were attempting to see is graphically easier to see using a log scale, but for now jsut keep that in your mind for now, it will be clearer once we graph the resulting data.\n",
        "\n",
        "Also, everytime the function loops through, it generates 20 random graphs for each p value. As run_one_graph return a pair of values, we then put those pairs into the list t. From there the list is converted into a Numpy array and computes the mean for each column of values to give an array of one row and two columns. The list returned after looping through the program gives us a row for each p value, with the first column being the characteristic path length, L, and the second being the network average clustering coefficient, or C.  \n",
        "\n",
        "Below is the values for p we will use."
      ]
    },
    {
      "cell_type": "code",
      "execution_count": 22,
      "id": "59ce5a2e-26ec-4b7f-8320-707f1e610914",
      "metadata": {
        "tags": [],
        "id": "59ce5a2e-26ec-4b7f-8320-707f1e610914",
        "outputId": "8c88f2b2-0c23-44b5-9481-fdc1f53c409a",
        "colab": {
          "base_uri": "https://localhost:8080/"
        }
      },
      "outputs": [
        {
          "output_type": "execute_result",
          "data": {
            "text/plain": [
              "array([1.00000000e-04, 3.16227766e-04, 1.00000000e-03, 3.16227766e-03,\n",
              "       1.00000000e-02, 3.16227766e-02, 1.00000000e-01, 3.16227766e-01,\n",
              "       1.00000000e+00])"
            ]
          },
          "metadata": {},
          "execution_count": 22
        }
      ],
      "source": [
        "ps = np.logspace(-4, 0, 9)\n",
        "ps"
      ]
    },
    {
      "cell_type": "markdown",
      "id": "e7084334-19c2-4866-8ba6-4dca92bae9b5",
      "metadata": {
        "id": "e7084334-19c2-4866-8ba6-4dca92bae9b5"
      },
      "source": [
        "Now lets runs the experiment. As noted by Downey, this will take a while to compute, for easier use consider lowering the number of nodes for your own tests."
      ]
    },
    {
      "cell_type": "code",
      "execution_count": 24,
      "id": "54f3693d-9505-4516-af2b-dd129fa17692",
      "metadata": {
        "tags": [],
        "id": "54f3693d-9505-4516-af2b-dd129fa17692",
        "outputId": "b9db8852-cb5f-449f-9cf2-a393fbc3948a",
        "colab": {
          "base_uri": "https://localhost:8080/"
        }
      },
      "outputs": [
        {
          "output_type": "stream",
          "name": "stdout",
          "text": [
            "0.0001\n",
            "[46.607598    0.66645826]\n",
            "0.00031622776601683794\n",
            "[38.6476562   0.66593563]\n",
            "0.001\n",
            "[27.4885419  0.6647125]\n",
            "0.0031622776601683794\n",
            "[15.7035599  0.6608606]\n",
            "0.01\n",
            "[8.7998703  0.64703295]\n",
            "0.03162277660168379\n",
            "[5.9804518  0.60776671]\n",
            "0.1\n",
            "[4.4251014  0.49007712]\n",
            "0.31622776601683794\n",
            "[3.5739129  0.21923448]\n",
            "1.0\n",
            "[3.2642172  0.00898933]\n",
            "CPU times: user 4min 6s, sys: 1.09 s, total: 4min 7s\n",
            "Wall time: 4min 11s\n"
          ]
        }
      ],
      "source": [
        "%time res = run_experiment(ps)"
      ]
    },
    {
      "cell_type": "markdown",
      "id": "7a1ab297-e64b-461a-b920-8a322e0635fd",
      "metadata": {
        "id": "7a1ab297-e64b-461a-b920-8a322e0635fd"
      },
      "source": [
        "Now that we have the results we can pull the data apart and standardize the results using the first value for each respective metric, making them suitable to graph on the same axis. Numpy's transpose function breaks the array apart into two individual arrays."
      ]
    },
    {
      "cell_type": "code",
      "execution_count": 25,
      "id": "22cf8018-2da4-426a-96ce-790e21f16601",
      "metadata": {
        "tags": [],
        "id": "22cf8018-2da4-426a-96ce-790e21f16601"
      },
      "outputs": [],
      "source": [
        "L, C = np.transpose(res)\n",
        "\n",
        "L /= L[0]\n",
        "C /= C[0]"
      ]
    },
    {
      "cell_type": "markdown",
      "id": "ae8380b4-181c-4e2e-ba61-2b64774f803e",
      "metadata": {
        "id": "ae8380b4-181c-4e2e-ba61-2b64774f803e"
      },
      "source": [
        "Now, we plot the data using the code provided by Downey."
      ]
    },
    {
      "cell_type": "code",
      "execution_count": 27,
      "id": "3c7bcb9a-4848-4f5f-8973-2e5c55886c01",
      "metadata": {
        "tags": [],
        "id": "3c7bcb9a-4848-4f5f-8973-2e5c55886c01",
        "outputId": "dca705c7-3a1a-482e-beac-52a9a7fbb001",
        "colab": {
          "base_uri": "https://localhost:8080/",
          "height": 430
        }
      },
      "outputs": [
        {
          "output_type": "display_data",
          "data": {
            "text/plain": [
              "<Figure size 640x480 with 1 Axes>"
            ],
            "image/png": "[encoded data removed]"
          },
          "metadata": {}
        }
      ],
      "source": [
        "plt.plot(ps, C, 's-', linewidth=1, label='C(p) / C(0)')\n",
        "plt.plot(ps, L, 'o-', linewidth=1, label='L(p) / L(0)')\n",
        "\n",
        "plt.show('figs/chap04-3')"
      ]
    },
    {
      "cell_type": "markdown",
      "id": "4d9bbbe0-7f56-417c-a820-0744cf153abb",
      "metadata": {
        "id": "4d9bbbe0-7f56-417c-a820-0744cf153abb"
      },
      "source": [
        "And now finally, with the above graph we the results for the Watts-Strogatz Experiment. Below is the summary by Downey, which I feel is the most concise way even I can think of puting it.\n",
        "\n",
        "\"As p increases, the mean path length drops quickly, because even a small number of randomly rewired edges provide shortcuts between regions of the graph that are far apart in the lattice. On the other hand, removing local links decreases the clustering coefficient much more slowly.\n",
        "As a result, there is a wide range of p where a WS graph has the properties of a small world graph, high clustering and low path lengths.\n",
        "And that’s why Watts and Strogatz propose WS graphs as a model for real-world networks that exhibit the small world phenomenon.\"\n",
        "\n",
        "But you might still have the question of what that all means. What does this show us about real world netowrks? As connections are rewired, taking the graph away from an idealised state, the high clustering with a large range of p illustrates how like social networks in theory, the more connections we have the smaller the path length from one person to people outside their normal social clique. From the experiment we see that even a low probability will yield wide affecting changes in the path lengths for the whole network.\n",
        "\n",
        "It should be noted that the Watts-Strogatz model do fall short of a true real-world network, but past and future research has been/is being done on the subject. If you are interested in why that is, because truly that could be a whole other notebook, I will refer you to the wikipedia page, linked below, for the Watts-Strogatz model as a good starting point.\n",
        "\n",
        "https://en.wikipedia.org/wiki/Watts%E2%80%93Strogatz_model"
      ]
    },
    {
      "cell_type": "markdown",
      "id": "a778a32f-912e-4f02-9fff-dc07aa4fa50d",
      "metadata": {
        "id": "a778a32f-912e-4f02-9fff-dc07aa4fa50d"
      },
      "source": [
        "## Run Your Own Test\n",
        "\n",
        "I have left below for further exploration of the models and it's properties. The first code cell is for you to pick your values for number of nodes, degree for each, probability and them list of probabilities for the experiment."
      ]
    },
    {
      "cell_type": "code",
      "execution_count": null,
      "id": "81ddb7da-5601-46f7-a3cc-cc313ff823e5",
      "metadata": {
        "tags": [],
        "id": "81ddb7da-5601-46f7-a3cc-cc313ff823e5"
      },
      "outputs": [],
      "source": [
        "n =\n",
        "k =\n",
        "p =\n",
        "ps = np.logspace(-4, 0, 9)"
      ]
    },
    {
      "cell_type": "code",
      "execution_count": null,
      "id": "05e1d240-5ad6-43fd-a7b1-c2dd9b56c0d9",
      "metadata": {
        "tags": [],
        "id": "05e1d240-5ad6-43fd-a7b1-c2dd9b56c0d9"
      },
      "outputs": [],
      "source": [
        "ws = make_ws_graph(n, k, p)\n",
        "nx.draw_circular(ws,\n",
        "                 node_color='C1',\n",
        "                 node_size=1000,\n",
        "                 with_labels=True)"
      ]
    },
    {
      "cell_type": "code",
      "execution_count": null,
      "id": "6ce10e1e-2be0-4835-b9c6-e74c8c9083ce",
      "metadata": {
        "tags": [],
        "id": "6ce10e1e-2be0-4835-b9c6-e74c8c9083ce"
      },
      "outputs": [],
      "source": [
        "node_clustering(ws, 1), clustering_coefficient(lattice)"
      ]
    },
    {
      "cell_type": "code",
      "execution_count": null,
      "id": "69288ce1-266c-4e10-8446-b1fda6efd0c6",
      "metadata": {
        "tags": [],
        "id": "69288ce1-266c-4e10-8446-b1fda6efd0c6"
      },
      "outputs": [],
      "source": [
        "characteristic_path_length(ws)"
      ]
    },
    {
      "cell_type": "code",
      "execution_count": null,
      "id": "70cab753-9b1b-4655-a024-164bd3ac1d78",
      "metadata": {
        "tags": [],
        "id": "70cab753-9b1b-4655-a024-164bd3ac1d78"
      },
      "outputs": [],
      "source": [
        "%time experiment = run_experiment(ps, n=100, k=10, iters=10)"
      ]
    },
    {
      "cell_type": "code",
      "execution_count": null,
      "id": "328d406d-4a3b-4fad-a2b5-140ab3876053",
      "metadata": {
        "tags": [],
        "id": "328d406d-4a3b-4fad-a2b5-140ab3876053"
      },
      "outputs": [],
      "source": [
        "L, C = np.transpose(res)\n",
        "\n",
        "L /= L[0]\n",
        "C /= C[0]"
      ]
    },
    {
      "cell_type": "code",
      "execution_count": null,
      "id": "8f67dae9-e47a-427d-a9ce-a0b1f4988497",
      "metadata": {
        "tags": [],
        "id": "8f67dae9-e47a-427d-a9ce-a0b1f4988497"
      },
      "outputs": [],
      "source": [
        "L"
      ]
    },
    {
      "cell_type": "code",
      "execution_count": null,
      "id": "20a7efeb-d379-4e28-948f-a0544972630c",
      "metadata": {
        "tags": [],
        "id": "20a7efeb-d379-4e28-948f-a0544972630c"
      },
      "outputs": [],
      "source": [
        "C"
      ]
    },
    {
      "cell_type": "code",
      "execution_count": null,
      "id": "8648f0cd-822a-4cda-8dcd-31682ca2c97b",
      "metadata": {
        "tags": [],
        "id": "8648f0cd-822a-4cda-8dcd-31682ca2c97b"
      },
      "outputs": [],
      "source": [
        "plt.plot(ps, C, 's-', linewidth=1, label='C(p) / C(0)')\n",
        "plt.plot(ps, L, 'o-', linewidth=1, label='L(p) / L(0)')\n",
        "decorate(xlabel='Rewiring probability (p)', xscale='log',\n",
        "         title='Normalized clustering coefficient and path length',\n",
        "         xlim=[0.00009, 1.1], ylim=[-0.01, 1.01])\n",
        "\n",
        "plt.show('figs/chap04-3')"
      ]
    }
  ],
  "metadata": {
    "kernelspec": {
      "display_name": "Python 3 (ipykernel)",
      "language": "python",
      "name": "python3"
    },
    "language_info": {
      "codemirror_mode": {
        "name": "ipython",
        "version": 3
      },
      "file_extension": ".py",
      "mimetype": "text/x-python",
      "name": "python",
      "nbconvert_exporter": "python",
      "pygments_lexer": "ipython3",
      "version": "3.11.4"
    },
    "colab": {
      "provenance": []
    }
  },
  "nbformat": 4,
  "nbformat_minor": 5
}