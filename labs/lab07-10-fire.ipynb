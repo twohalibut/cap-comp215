{
  "cells": [
    {
      "cell_type": "markdown",
      "source": [
        "# Labs 7 - 10: A CA model of Natural Disturbance\n",
        "In [1990](https://doi.org/10.1016/0375-9601(90)90451-S) Bak, Chen and Tang proposed a cellular automaton that is an abstract model of a forest fire. Each cell is in one of three states: empty, occupied by forest, or on fire.\n",
        "\n",
        "3 ecological processes are modelled: forest regeneration, fire ignition, and fire spread\n",
        "\n",
        "  * empty cells \"regenerate\" forest at a fixed rate, $p$\n",
        "  * forest fires ignite with a regular but small frequency, $f$\n",
        "  * forested cells catch fire when their neighbours are burning, and burn out in one time step.\n",
        "\n",
        "Over the remainder of term, we will develop 2D CA class that implements this model and run computational experiments on the spatial and temporal patterns that emerge."
      ],
      "metadata": {
        "collapsed": false,
        "id": "LEwGR7pY3-Yy"
      }
    },
    {
      "cell_type": "code",
      "execution_count": 1,
      "metadata": {
        "collapsed": true,
        "id": "QWg_hbA73-Y0"
      },
      "outputs": [],
      "source": [
        "%matplotlib inline\n",
        "\n",
        "import time\n",
        "from pprint import pprint\n",
        "\n",
        "import matplotlib\n",
        "import matplotlib.pyplot as plt\n",
        "import numpy as np\n",
        "from matplotlib import animation\n",
        "from scipy.signal import correlate2d\n",
        "\n",
        "# Configure matplotlib's animation library to work in the browser.\n",
        "matplotlib.rc('animation', html='jshtml')"
      ]
    },
    {
      "cell_type": "markdown",
      "source": [
        "### Helpers\n",
        "Some useful, re-usable bits of code developed in previous notebooks..."
      ],
      "metadata": {
        "collapsed": false,
        "id": "ozqIJnCr3-Y2"
      }
    },
    {
      "cell_type": "code",
      "execution_count": 2,
      "outputs": [],
      "source": [
        "# Qualitative colour map with value 0 set to white\n",
        "tab20_mod = matplotlib.colormaps['tab20']\n",
        "tab20_mod.colors = ((1,1,1,1), *tab20_mod.colors[1:])\n",
        "\n",
        "def plot_2d_array(array, axes=None, title='', cmap=tab20_mod, **options):\n",
        "    \"\"\"\n",
        "    Plot the 2D array as an image on the given axes  1's will be dark blue, 0's will be light blue.\n",
        "\n",
        "    :param axes: the axes to plot on, or None to use the `plt.gca()` (current axes)\n",
        "    :param options: keyword arguments passed directly to `plt.imshow()`\n",
        "           see https://matplotlib.org/stable/api/_as_gen/matplotlib.axes.Axes.imshow.html\n",
        "    \"\"\"\n",
        "    axes = axes or plt.gca()  # If not axes are provided, draw on current axes\n",
        "    axes.set_title(title)\n",
        "    # Turn off axes labels and tick marks\n",
        "    axes.tick_params(axis='both', which='both', bottom=False, top=False, left=False, right=False ,\n",
        "                     labelbottom=False, labeltop=False, labelleft=False, labelright=False,)\n",
        "    # Defaults for displaying a \"matrix\" with hard-pixel boundaries and (0,0) at top-left\n",
        "    options = {**dict(interpolation='nearest', origin='upper'), **options}\n",
        "    axes.imshow(array, cmap=cmap, **options)"
      ],
      "metadata": {
        "id": "ErN6rPr63-Y3"
      }
    },
    {
      "cell_type": "code",
      "execution_count": 3,
      "outputs": [],
      "source": [
        "class Animation2D:\n",
        "    \"\"\"\n",
        "      Animates any 2D model with a step() method and a draw() method, using matplotlib\n",
        "      model.step() should take no parameters - just step the model forward one step.\n",
        "      model.draw() should take 2 parameters, the matpltolib axes to draw on and an integer step number\n",
        "\n",
        "      See https://www.allendowney.com/blog/2019/07/25/matplotlib-animation-in-jupyter/\n",
        "          for a discussion of the pros and cons of various animation techniques in jupyter notebooks\n",
        "    \"\"\"\n",
        "\n",
        "    def __init__(self, model, frames=50, steps_per_frame=1, figsize=(8, 8)):\n",
        "        \"\"\"\n",
        "        :param model: the simulation object to animate, with step() and draw(axes, step) methods\n",
        "        :param frames: number of animation frames to generate\n",
        "        \"\"\"\n",
        "        self.model = model\n",
        "        self.frames = frames\n",
        "        self.steps_per_frame = steps_per_frame\n",
        "        self.fig, self.ax = plt.subplots(figsize=figsize)\n",
        "\n",
        "    def animation_step(self, step):\n",
        "        \"\"\" Step the model forward and draw the plot \"\"\"\n",
        "        if step > 0:\n",
        "            for _ in range(self.steps_per_frame):\n",
        "                self.model.step()\n",
        "        self.model.draw(self.ax, step=step * self.steps_per_frame)\n",
        "\n",
        "    def show(self):\n",
        "        \"\"\" return the matplotlib animation object, ready for display \"\"\"\n",
        "        anim = animation.FuncAnimation(self.fig, self.animation_step, frames=self.frames)\n",
        "        plt.close()  # this ensures the last frame is not shown as a separate plot\n",
        "        return anim\n",
        "\n",
        "    def animate(self, interval=None):\n",
        "        \"\"\" Animate the model simulation directly in the notebook display block \"\"\"\n",
        "        from IPython.display import clear_output\n",
        "        try:\n",
        "            for i in range(self.frames):\n",
        "                clear_output(wait=True)  # clear the IPython display\n",
        "                self.ax.clear()  # clear old image from the axes (fixes a performance issue)\n",
        "                plt.figure(self.fig)  # add the figure back to pyplot ** sigh **\n",
        "                self.animation_step(i)\n",
        "                plt.show()  # show the current animation frame (pyplot then closes and throws away figure ** sigh **)\n",
        "                if interval:\n",
        "                    time.sleep(interval)\n",
        "        except KeyboardInterrupt:\n",
        "            pass"
      ],
      "metadata": {
        "id": "an25CTf33-Y4"
      }
    },
    {
      "cell_type": "code",
      "source": [
        "class FrequencyDist:\n",
        "    \"\"\" Represents the Frequency Distribution for a set of observations on a discrete random variable \"\"\"\n",
        "    def __init__(self, observations, labels: dict=None, title='Trials'):\n",
        "        \"\"\" observations is a 1D sequence of empirical data, labels optionally relabel observation values \"\"\"\n",
        "        self.n_obs = len(observations)\n",
        "        self.title = title\n",
        "\n",
        "        # frequency for each unique category\n",
        "        self.categories, self.counts = np.unique(observations, return_counts=True)\n",
        "        self.n_cat = len(self.categories)\n",
        "        self.proportions = self.counts/self.n_obs\n",
        "        # matching category labels, if supplied\n",
        "        self.category_labels = tuple(labels[c] for c in self.categories) if labels else self.categories\n",
        "\n",
        "    def get_frequencies(self):\n",
        "        \"\"\" Return the frequency count of each category as a dict \"\"\"\n",
        "        return {\n",
        "            cat: freq for cat, freq in zip(self.category_labels, self.counts)\n",
        "        }\n",
        "\n",
        "    def print_frequencies(self):\n",
        "        \"\"\" Print the frequency of each category as a fraction of observations \"\"\"\n",
        "        print(f'{self.title}:', [f'p({o})=\", {n}/{self.n_obs}' for o, n in self.get_frequencies().items()] )\n",
        "\n",
        "    def bar(self, axes=None, **options):\n",
        "        \"\"\" Plot distribution as a bar chart. \"\"\"\n",
        "        axes = axes or plt.gca()  # If no axes are provided, draw on current axes\n",
        "        axes.set(**options)\n",
        "        axes.set_title(f'Frequency distribution for {self.n_obs} {self.title}')\n",
        "        axes.bar(self.category_labels, self.proportions)\n",
        "\n",
        "    def plot(self, axes=None, **options):\n",
        "        \"\"\" Plot distribution as a line graph. \"\"\"\n",
        "        axes = axes or plt.gca()  # If no axes are provided, draw on current axes\n",
        "        axes.set(**options)\n",
        "        axes.set_title(f'Frequency distribution for {self.n_obs} {self.title}')\n",
        "        axes.plot(self.categories, self.proportions)"
      ],
      "metadata": {
        "id": "157StlSh-GYD"
      },
      "execution_count": 4,
      "outputs": []
    },
    {
      "cell_type": "markdown",
      "source": [
        "# Lab 7:  Implementing the Bak, Chen, Tang Model\n",
        "\n",
        "In this lab we will implement a 2D CA model using the same techniques as the GoL, Diffusion, and Percolation models.\n",
        "We are setting up the model we will use in future labs to run some computational experiments to answer questions about this system."
      ],
      "metadata": {
        "collapsed": false,
        "id": "Yve-DONV3-Y4"
      }
    },
    {
      "cell_type": "markdown",
      "source": [
        "## Ex. 7.1: Define the Cellular Automata\n",
        "This 2D CA will be similar to those we've seen before.\n",
        "\n",
        "1. Define the kernel (correlation matrix) to compute the spread of fire\n",
        "    * what do we need to know about a cell's neighbourhood to know if it should catch fire?\n",
        "    * how can we encode that using a dot product with a 3 x 3 correlation matrix?\n",
        "\n",
        "2. The step function will be more complex because it must implement the **4 rules**:\n",
        "\n",
        "  *  An empty cell becomes occupied with probability $p$.\n",
        "  *  An occupied cell spontaneously burns, with probability $f$, even if none of its neighbors is on fire.\n",
        "  *  An occupied cell that is on fire becomes an empty cell in the next time step.\n",
        "  *  A occupied catches fire if any of its neighbors is on fire.\n",
        "\n",
        "Typical values for the parameters are $p=0.01$ and $f=0.001$"
      ],
      "metadata": {
        "collapsed": false,
        "id": "p-WZnMs03-Y4"
      }
    },
    {
      "cell_type": "code",
      "execution_count": 5,
      "outputs": [],
      "source": [
        "class ForestFire:\n",
        "    \"\"\" 2D Cellular Automaton that simulates a fire-dominated landscape \"\"\"\n",
        "\n",
        "    # Define names for the 3 possible cell states\n",
        "    EMPTY = 0\n",
        "    OCCUPIED = 1\n",
        "    FIRE = 5\n",
        "\n",
        "    # Define a colour map that maps each cell state to an intuitive colour.\n",
        "    cmap = [(1, 0.5, 0), (0, 1, 0), (0, 0, 0), (0, 0, 0), (0, 0, 0), (1, 0, 0)]\n",
        "    cmap[EMPTY] = (1, 0.5, 0)  # brown\n",
        "    cmap[OCCUPIED] = (0, 1, 0)  # green\n",
        "    cmap[FIRE] = (1, 0, 0)  # red\n",
        "    forest_colour_map = matplotlib.colors.ListedColormap(cmap)\n",
        "\n",
        "    # TODO: define a sensible correlation kernel to detect cardinal neighbourhood on fire\n",
        "    kernel = np.array([[0, 1, 0],\n",
        "                       [1, 0, 1],\n",
        "                       [0, 1, 0]])\n",
        "\n",
        "\n",
        "    def __init__(self, n, p=0.01, f=0.001, q=0.5):\n",
        "        \"\"\"Initializes the model.\n",
        "\n",
        "        n: number of rows\n",
        "        p: probability an empty cells becomes \"forested\" (occupied)\n",
        "        f: probability of spontaneous file (e.g., 1/fire ignition interval)\n",
        "        q: initial forest density (probability cell is \"forested\" in initial state)\n",
        "        \"\"\"\n",
        "        self.p = p\n",
        "        self.f = f\n",
        "        # initialize landscape with approx. q proportion of cells OCCUPIED\n",
        "        self.state = np.random.choice([self.OCCUPIED, self.EMPTY], (n, n), p=[q, 1 - q])\n",
        "\n",
        "\n",
        "    def step(self):\n",
        "        \"\"\"Executes one time step, applying the CA rules to regenerate and burn forest.\"\"\"\n",
        "        # TODO: define the rules for the CA.  This is a significant challenge b/c there are 4 rules and they must act independently!\n",
        "        # Tips: develop 1 rule at a time, in the order above, leaving fire spread (correlation) till last.\n",
        "        #       Compute each rule in 2 steps: (1) identify which cells the rule applies to; (2) update those cells.\n",
        "        #       Use the next code block, below, to test as you go.\n",
        "\n",
        "        empty = self.state == self.EMPTY\n",
        "        occupied = self.state == self.OCCUPIED\n",
        "        on_fire = self.state == self.FIRE\n",
        "        neighbors_on_fire = correlate2d(self.state, self.kernel, mode='same', boundary='wrap') > 5\n",
        "        fire_spread = neighbors_on_fire * occupied\n",
        "\n",
        "        self.state[empty] = np.random.choice([self.OCCUPIED, self.EMPTY], len(self.state[empty]), p=[self.p, 1-self.p])\n",
        "        self.state[occupied] = np.random.choice([self.FIRE, self.OCCUPIED], len(self.state[occupied]), p=[self.f, 1-self.f])\n",
        "        self.state[on_fire] = self.EMPTY\n",
        "        self.state[fire_spread] = self.FIRE\n",
        "\n",
        "\n",
        "    def num_occupied(self):\n",
        "        \"\"\" return the number of cells occupied by forest \"\"\"\n",
        "        return np.sum(self.state==self.OCCUPIED)\n",
        "\n",
        "\n",
        "    def pct_occupied(self):\n",
        "        \"\"\" return the proportion of cells occupied by forest \"\"\"\n",
        "        return self.num_occupied() / self.state.size\n",
        "\n",
        "\n",
        "    def draw(self, axes=None, step=''):\n",
        "        \"\"\"Draws the CA cells using the forest colour map so values are coloured intuitively.\"\"\"\n",
        "        axes = axes or plt.gca()\n",
        "        title = f'Time:{step} Occupied: {round(self.pct_occupied() * 100, 2)}%'\n",
        "        plot_2d_array(self.state, axes=axes, title=title,\n",
        "                      cmap=self.forest_colour_map, vmin=0, vmax=len(self.forest_colour_map.colors))"
      ],
      "metadata": {
        "id": "Nmggr6fz3-Y5"
      }
    },
    {
      "cell_type": "code",
      "execution_count": 6,
      "outputs": [
        {
          "output_type": "stream",
          "name": "stdout",
          "text": [
            "array([[1, 1, 0],\n",
            "       [5, 1, 0],\n",
            "       [0, 0, 1]])\n"
          ]
        }
      ],
      "source": [
        "# Code-a-little Test-a-little - use this space to test your class methods as you develop them.  You can remove this block when done.\n",
        "m = ForestFire(3, p=0.5, f=0.2)  #  a very small model with high chance of regen. and spontaneous fires\n",
        "m.state = np.array([             # set the state matrix to a known value for testing with\n",
        "    [0, 1, 0],\n",
        "    [1, 1, 0],\n",
        "    [5, 0, 1],\n",
        "\n",
        "])\n",
        "m.step()                          # test the method you are working on and print some useful indicator\n",
        "pprint(m.state)"
      ],
      "metadata": {
        "id": "W6f45ycm3-Y5",
        "outputId": "43f1cbcd-eb47-47a7-c40f-eed826deec4c",
        "colab": {
          "base_uri": "https://localhost:8080/"
        }
      }
    },
    {
      "cell_type": "markdown",
      "source": [
        "## Ex. 7.2: Animation\n",
        "Create a simple animation (using Animate2D class provided) so we can visualize and verify the system dynamics"
      ],
      "metadata": {
        "collapsed": false,
        "id": "Puu9fu903-Y6"
      }
    },
    {
      "cell_type": "code",
      "execution_count": 7,
      "outputs": [
        {
          "output_type": "display_data",
          "data": {
            "text/plain": [
              "<Figure size 800x800 with 1 Axes>"
            ],
            "image/png": "[encoded data removed]"
          },
          "metadata": {}
        }
      ],
      "source": [
        "# Ex. 7.2 here\n",
        "#  Suggestions: use a small grid (e.g., 20x20)  and\n",
        "#               a short animation (100 frames) with interval=0.3, to slow it down so you can inspect its behaviour\n",
        "\n",
        "forest = ForestFire(20, p = 0.3)\n",
        "simulate = Animation2D(forest, frames = 100)\n",
        "simulate.animate()"
      ],
      "metadata": {
        "id": "aL6wT-1S3-Y7",
        "colab": {
          "base_uri": "https://localhost:8080/",
          "height": 675
        },
        "outputId": "f4d2d4c4-5404-47cf-ea92-21799eb4f18e"
      }
    },
    {
      "cell_type": "markdown",
      "source": [
        "### Question 7.3:\n",
        "In what ways is this model similar to Diffusion and/or Percolation?\n",
        "What kinds of behaviours might we predict from this more complex model based on what we learned from the simpler Diffusion and/or Precolation models?\n",
        "Provide concise (brief, point-form) answers below:\n",
        "\n",
        "#### Answers:\n",
        "* Like diffusion we see the fire spread out like droplets added to solution, but it acts like percolation and can only travel to cells that are porous, in this case occupied by forest.\n",
        "* We can predict the fire to radiate outward in circular fashion, while also follwoing the path of occupied trees available to the fire. The rate/chance of fires creates patterns similar to those seen in diffusion simulations."
      ],
      "metadata": {
        "collapsed": false,
        "id": "IfoTsv2t3-Y7"
      }
    },
    {
      "cell_type": "markdown",
      "source": [
        "-------------------"
      ],
      "metadata": {
        "collapsed": false,
        "id": "KFMpPJjY3-Y7"
      }
    },
    {
      "cell_type": "markdown",
      "source": [
        "# Lab 8:  Temporal Dynamics: Stability and Equilibrium\n",
        "\n",
        "The [dynamics](https://en.wikipedia.org/wiki/System_dynamics) of a system describe how it changes over time.  In mathematics, we typically express dyanamics with differential equations (i.e., expressing change over time).  In computation, we typically use a simulation model, like the one developed in Lab 7.\n",
        "\n",
        "Please watch: [Basic System Dyanmics (15 min)](https://youtu.be/qlRM1JlxfkU) for a quick introduction to these concepts.\n",
        "\n",
        "---------------------\n",
        "In this lab we will explore the patterns our `ForestFire` model traces out over time.  We'll try to determine if the model is stable or chaotic, whether there are any circumstances where it reaches [equilibirum](https://en.wikipedia.org/wiki/Mechanical_equilibrium)"
      ],
      "metadata": {
        "collapsed": false,
        "id": "k2QXDfl03-Y7"
      }
    },
    {
      "cell_type": "markdown",
      "source": [
        "## Ex. 8.1: Exploratory Analysis\n",
        "Explore the behaviour of the model we defined above.\n",
        " 1. Alter the model's initial conditions - how does the behaviour change depending on the initial proportion of forested vs. empty cells?\n",
        " 2. Alter the regeneration and fire frequency parameters, $p$ and $f$, to see how this changes the model behaviour - how does the behaviour change as you increase or decrease each of these model parameters?"
      ],
      "metadata": {
        "collapsed": false,
        "id": "lyJ2xBQS3-Y8"
      }
    },
    {
      "cell_type": "markdown",
      "source": [
        "**Answers:**\n",
        "1. The initial condition for how forested the model is only affects how long it takes the system to reach steady state, but the type of steady state is controlled by the values for p and f.\n",
        "2. Looking at the value for f, as f increase it lowers the percentage occupied by forest in the model, with the steady states up and lower bounds defined by the rate of p. Even as p gets larger, this doesn't alter the steady states amplitude, rather it affects the time to reach steady state. When both values are equal they have the lowest amplitude for the steady state."
      ],
      "metadata": {
        "id": "dT25DViGQJm4"
      }
    },
    {
      "cell_type": "code",
      "execution_count": 8,
      "outputs": [
        {
          "output_type": "display_data",
          "data": {
            "text/plain": [
              "<Figure size 800x800 with 1 Axes>"
            ],
            "image/png": "[encoded data removed]"
          },
          "metadata": {}
        }
      ],
      "source": [
        "# Ex. 8.1 Part 1\n",
        "\n",
        "# for reference base units ForestFire(n, p=0.01, f=0.001, q=0.5)\n",
        "\n",
        "forest_1 = ForestFire(40, p=0.8, f=0.008, q=0.4)\n",
        "simulate = Animation2D(forest_1, frames = 100)\n",
        "simulate.animate()"
      ],
      "metadata": {
        "id": "yB8__kul3-Y8",
        "colab": {
          "base_uri": "https://localhost:8080/",
          "height": 675
        },
        "outputId": "c950dea6-bf23-4781-e90f-a9fea4e590d4"
      }
    },
    {
      "cell_type": "code",
      "source": [],
      "metadata": {
        "id": "Lr-CjOvGlho-"
      },
      "execution_count": 8,
      "outputs": []
    },
    {
      "cell_type": "markdown",
      "source": [
        "## Ex. 8.2: Steady State\n",
        "Many complex systems never achieve a static [equilibirum](https://en.wikipedia.org/wiki/Mechanical_equilibrium), instead their state fluctuates around a value, called an [\"attractor\"](https://en.wikipedia.org/wiki/Attractor).  A system that is not trending is said to be in [\"steady state\"](https://en.wikipedia.org/wiki/Steady_state).\n",
        "Starting from a random initial condition, run the model until it reaches a \"steady state\" where the number of occupied cells is no longer trending (consistently increasing or decreasing).\n",
        "\n",
        "Design an experimental setup that allows you to detect when the system is in steady state with respect to the number of forested cells.\n",
        "This need not be fancy and need not automate the detection of steady state, so long as it provides some output that allows you to detect how long it takes for the system to settle into an equilibrium or cyclical pattern."
      ],
      "metadata": {
        "collapsed": false,
        "id": "CyL10FhQ3-Y8"
      }
    },
    {
      "cell_type": "code",
      "execution_count": 19,
      "outputs": [
        {
          "output_type": "execute_result",
          "data": {
            "text/plain": [
              "Text(0.5, 0, 'Time Steps')"
            ]
          },
          "metadata": {},
          "execution_count": 19
        },
        {
          "output_type": "display_data",
          "data": {
            "text/plain": [
              "<Figure size 640x480 with 1 Axes>"
            ],
            "image/png": "[encoded data removed]"
          },
          "metadata": {}
        }
      ],
      "source": [
        "# Ex. 8.2 here\n",
        "\n",
        "def steady_state_experiment(p, f, q, steps = 1000):\n",
        "    test = ForestFire(40, p = p, f = f, q = q)\n",
        "    step_gen = (test.step() for i in range(steps))\n",
        "    forested_cells = [test.pct_occupied() for _ in step_gen]\n",
        "    return forested_cells\n",
        "\n",
        "x = steady_state_experiment(p=0.8, f=0.001, q=0.5)\n",
        "\n",
        "plt.plot(range(0, len(x)), x)\n",
        "plt.ylabel('Percent Occupied by Forest')\n",
        "plt.xlabel('Time Steps')"
      ],
      "metadata": {
        "id": "Z4fsC-ao3-Y8",
        "colab": {
          "base_uri": "https://localhost:8080/",
          "height": 466
        },
        "outputId": "cd915612-1a57-46d8-95c3-26e306eb907d"
      }
    },
    {
      "cell_type": "markdown",
      "source": [
        "### Question 8.3:\n",
        "Starting with a uniform random landscape, $q$ = 0.5, find the steady state proportion of forested cells of this system for 3 different combinations of $p$ and $f$, and the approx. number of time steps required to reach steady state.\n",
        "Fill in the table below with your experimental results:\n",
        "\n",
        "| p  | f   | steady-state | time steps | Cyclical? |\n",
        "|----|-----|--------------|------------|-----------|\n",
        "| 0.01 | 0.001 | 0.3-0.4       |  ~100         | Yes         |\n",
        "| 0.2  | 0.3   | 0.24-0.26            | ~5          | Yes         |\n",
        "| 0.8  | 0.001   | 0.25-0.45            | ~30          | Yes         |\n"
      ],
      "metadata": {
        "collapsed": false,
        "id": "RSY439BA3-Y8"
      }
    },
    {
      "cell_type": "markdown",
      "source": [
        "## Ex. 8.4: Stability\n",
        "A system is [\"stable\"](https://en.wikipedia.org/wiki/Ecological_stability) if it returns to its former steady state after a [disturbance](https://en.wikipedia.org/wiki/Disturbance_(ecology))\n",
        "\n",
        "A disturbance in our case might be an extreme fire year or an insect outbreak that changes the forest's susceptibility to fire, or several years of reduced regeneration due to a soil fungus killing seedlings.\n",
        "How could you emulate a disturbance like this in your model?  If you want to modify the model in some way, that's OK, but you may also find ways to emulate a disturbance as an \"external forcing function\".\n",
        "\n",
        "Run your model to steady-state, then emulate a major disturbance (over one or more time steps) to \"perturb\" the system away from its steady state.  Remove the external force and measure how long it takes for the system to return to steady state."
      ],
      "metadata": {
        "collapsed": false,
        "id": "kNnB2KDK3-Y9"
      }
    },
    {
      "cell_type": "code",
      "execution_count": 10,
      "outputs": [
        {
          "output_type": "execute_result",
          "data": {
            "text/plain": [
              "[<matplotlib.lines.Line2D at 0x7aaec7b7e680>]"
            ]
          },
          "metadata": {},
          "execution_count": 10
        },
        {
          "output_type": "display_data",
          "data": {
            "text/plain": [
              "<Figure size 640x480 with 1 Axes>"
            ],
            "image/png": "[encoded data removed]"
          },
          "metadata": {}
        }
      ],
      "source": [
        "# Ex. 8.4 here\n",
        "\n",
        "def pattern_to_array(pattern:str):\n",
        "    rows = (s.strip() for s in pattern.splitlines())\n",
        "    return np.array([[int(bit) for bit in item]for item in rows if item])\n",
        "\n",
        "def load_disturbance(fire_model, disturbance, x=0, y=0):\n",
        "        \"\"\"\n",
        "        Takes a given disturbance and x (horizontal), y (vertical) position to place the disturbance into the FireModel state array\n",
        "        For this function x and y refer to where the top left corner of the pattern will be placed in the array,\n",
        "        not the center of the pattern.\n",
        "        \"\"\"\n",
        "        num_rows, num_cols = disturbance.shape\n",
        "        fire_model.state[y:y+(num_cols), x:x+(num_rows)] = disturbance\n",
        "        return fire_model\n",
        "\n",
        "def disturbance_experiment(disturbance, p=0.01, f=0.001, q=0.5, steps = 1000, steps_dis = 100):\n",
        "    steps_1 = steps//3\n",
        "    steps_dis = steps_dis\n",
        "    steps_2 = steps-steps_1-steps_dis\n",
        "    test = ForestFire(40, p = p, f = f, q = q)\n",
        "    step_gen = (test.step() for i in range(steps_1))\n",
        "    forested_cells = [test.pct_occupied() for item in step_gen]\n",
        "    step_gen_dis = (load_disturbance(test, disturbance).step() for i in range(steps_dis))\n",
        "    forested_cells2 = [test.pct_occupied() for item in step_gen_dis]\n",
        "    forested_cells.extend(forested_cells2)\n",
        "    step_gen2 = (test.step() for i in range(steps_2))\n",
        "    forested_cells3 = [test.pct_occupied() for item in step_gen2]\n",
        "    forested_cells.extend(forested_cells3)\n",
        "    return forested_cells\n",
        "\n",
        "disturbance_dead_pattern = \\\n",
        "    \"\"\"\n",
        "    0000000000\n",
        "    0000000000\n",
        "    0000000000\n",
        "    0000000000\n",
        "    0000000000\n",
        "    0000000000\n",
        "    0000000000\n",
        "    0000000000\n",
        "    0000000000\n",
        "    0000000000\n",
        "    \"\"\"\n",
        "# test = ForestFire(40, p=0.01, f=0.001, q=0.5)\n",
        "# print(test.state)\n",
        "# test2 = load_disturbance(test, disturbance_dead, x=0, y=0)\n",
        "# print(test2.state)\n",
        "\n",
        "disturbance_dead = np.zeros((30,30))\n",
        "y = disturbance_experiment(disturbance_dead, p=0.05, f=0.001, q=0.5, steps = 600, steps_dis = 100)\n",
        "\n",
        "plt.plot(range(0, len(y)), y)\n",
        "\n"
      ],
      "metadata": {
        "id": "_mEMeAlv3-Y9",
        "colab": {
          "base_uri": "https://localhost:8080/",
          "height": 447
        },
        "outputId": "138fdd8d-502a-4963-ec84-b5611afca62c"
      }
    },
    {
      "cell_type": "markdown",
      "source": [
        "### Question 8.4:\n",
        "Does the model tend to return to the same steady-state, or does the attractor move to a different value?\n",
        "How long does it take for the model to return to steady-state dynamics?\n",
        "Does it appear to matter to these results how large the disturbance is?\n",
        "What does that tell you about the number of \"attractors\" in this system?\n",
        "\n",
        "#### Answers:\n",
        "* The model tends to return to the same steady-state, with the disturbance making a new attractor.\n",
        "* Once the disturbance has ended the model quickly returns to steady-state, around 50 steps.\n",
        "* The size of the disturbance does matter for this experiment. the Smaller the less noticeable it is on the whole system.\n",
        "* The distrubance creates a second attractor while active, going back to the original for the system."
      ],
      "metadata": {
        "collapsed": false,
        "id": "Zz-MLlpr3-Y_"
      }
    },
    {
      "cell_type": "markdown",
      "source": [
        "-----------------"
      ],
      "metadata": {
        "collapsed": false,
        "id": "rNSD7B_L3-Y_"
      }
    },
    {
      "cell_type": "markdown",
      "source": [
        "# Lab 9: Patch Size Distribution\n",
        "\n",
        "The spatial patterns that emerge from this model tends to be landscapes with patches of forested and un-forested land of varying size.  A question naturally arises about this pattern:\n",
        "  * what is the size of patches created by fire?\n",
        "    This will alos tell us something about forest [fragmentation](https://en.wikipedia.org/wiki/Habitat_fragmentation), which impacts wildlife habitat, for example.\n",
        "\n",
        "Notice that rather than a single number, we will get a [distribution](https://en.wikipedia.org/wiki/Probability_distribution) of values for patch sizes.  The shape of this distribution emerges from the system dynamics, and serves as a way to compare our model results with empirical observations of patch-size distributions in real ecosystems.\n",
        "\n",
        "In this lab we will explore the spatial patterns our `ForestFire` model makes.  We'll ask if these patterns have a [heavy-tail distribution](https://en.wikipedia.org/wiki/Heavy-tailed_distribution) and thus exhibit [self-organizing criticality](https://en.wikipedia.org/wiki/Self-organized_criticality)"
      ],
      "metadata": {
        "collapsed": false,
        "id": "bqHGuqpS3-Y_"
      }
    },
    {
      "cell_type": "markdown",
      "source": [
        "### Identifying Contiguous Patches\n",
        "\n",
        "This is a surprisingly challenging problem to solve in the general case given how good our visual system is at identifying them!\n",
        "The idea I had here was to start by giving each forested cell a unique value, then \"grow\" patches by allowing the smallest of these unique values to propagate to neighbouring cells.  Repeat until the propagation is finished.  In the end, all the cells in each contiguous patch have the same, unique identifier.\n",
        "Notice that this is a modified diffusion / percolation algorithm - they are actually useful!"
      ],
      "metadata": {
        "collapsed": false,
        "id": "kHiwfDGa3-ZA"
      }
    },
    {
      "cell_type": "code",
      "execution_count": 11,
      "outputs": [],
      "source": [
        "neighbourhood = np.array([\n",
        "    [0, 1, 0],\n",
        "    [1, 1, 1],\n",
        "    [0, 1, 0],\n",
        "])\n",
        "centre = tuple(d // 2 for d in neighbourhood.shape)\n",
        "\n",
        "\n",
        "def max_neighbour(a):\n",
        "    \"\"\" Return the largest non-zero neighbourhood value or 0 if centre cell is a zero \"\"\"\n",
        "    assert a.shape == neighbourhood.shape\n",
        "    p = a * neighbourhood\n",
        "    return 0 if a[centre]==0 else np.max(p[p > 0])\n",
        "\n",
        "assert max_neighbour(np.array([[1, 2, 3], [0, 1, 0], [1, 2, 3] ])) == 2\n",
        "assert max_neighbour(np.array([[1, 2, 3], [0, 0, 0], [1, 2, 3] ])) == 0\n",
        "assert max_neighbour(np.array([[1, 0, 1], [0, 2, 0], [1, 0, 1] ])) == 2\n",
        "\n",
        "def consolidate(array):\n",
        "    \"\"\" return copy of array with adjacent cells consolidated into a patch with the lowest value among occupied neighbours \"\"\"\n",
        "    rows, cols = array.shape\n",
        "    array = np.pad(array, 1, mode='wrap')  # wraps edges\n",
        "    k = neighbourhood.shape[0]\n",
        "    return np.array([\n",
        "        [max_neighbour(array[row:row + k, col:col + k]) for col in range(cols)]\n",
        "        for row in range(rows)\n",
        "    ], dtype=np.uint)\n",
        "\n",
        "def patchify(array, patch_category):\n",
        "    \"\"\" Return an array with each contiguous patch identified by a unique integer\n",
        "    array:  array of int categorical values.\n",
        "    category: the category value to identify patches for.\n",
        "\n",
        "    return: array of same shape with a unique value identifying cells in each patch and zeros elsewhere.\n",
        "    \"\"\"\n",
        "    patches = np.zeros(array.shape, dtype=np.uint)\n",
        "    # assign each cell that falls in a patch a unique number, 1 .. N\n",
        "    patches[array == patch_category] = range(100, len(array[array == patch_category]) + 100)\n",
        "\n",
        "    patches_growing = True\n",
        "    while patches_growing:\n",
        "        prev_patches = patches\n",
        "        patches = consolidate(prev_patches)\n",
        "        patches_growing = np.any(patches != prev_patches)  # patches are growing until consolidate algorithm stabilizes.\n",
        "\n",
        "    return patches"
      ],
      "metadata": {
        "id": "eH3J3YeA3-ZA"
      }
    },
    {
      "cell_type": "code",
      "execution_count": 12,
      "outputs": [
        {
          "output_type": "stream",
          "name": "stdout",
          "text": [
            "Patch id's: [100 111 123 124]\n"
          ]
        },
        {
          "output_type": "display_data",
          "data": {
            "text/plain": [
              "<Figure size 640x480 with 1 Axes>"
            ],
            "image/png": "[encoded data removed]"
          },
          "metadata": {}
        }
      ],
      "source": [
        "# test patchify\n",
        "a = np.array([\n",
        "    [0, 0, 0, 1, 5, 0, 1, 0],\n",
        "    [0, 1, 1, 0, 5, 0, 1, 0],\n",
        "    [0, 0, 1, 1, 5, 1, 1, 1],\n",
        "    [0, 1, 1, 0, 5, 0, 0, 0],\n",
        "    [0, 0, 0, 0, 5, 0, 1, 1],\n",
        "    [1, 1, 1, 0, 5, 0, 0, 1],\n",
        "    [1, 1, 1, 0, 5, 0, 1, 0],\n",
        "    [0, 1, 1, 0, 5, 0, 1, 0],\n",
        "], dtype=np.uint)\n",
        "pch = patchify(a, 1)\n",
        "plot_2d_array(pch)\n",
        "print(\"Patch id's:\", np.unique(pch[pch>0]))"
      ],
      "metadata": {
        "id": "SPzSrOZE3-ZB",
        "colab": {
          "base_uri": "https://localhost:8080/",
          "height": 423
        },
        "outputId": "d52b7680-8784-4803-a512-fd14649afda5"
      }
    },
    {
      "cell_type": "markdown",
      "source": [
        "## Ex. 9.1 Patch Size Distribution\n",
        "\n",
        "Run your model to steady-state, and `patchify` the model state.\n",
        "You might want to plot these beside each other to verify that `patchify` is working as expected.\n",
        "\n",
        "With a unique \"patch id\" assigned to each patch, we can tally up the size of each patch simply by counting the number of cells for each unique id.  Important: be sure to exclude the value zero - these are empty cells do not represent a patch!\n",
        "\n",
        "*Tip*: use [numpy.unique](https://numpy.org/doc/stable/reference/generated/numpy.unique.html), with `return_counts=True`, which does exactly the job we want.  It will return 2 arrays with the unique patch id and the matching patch size for each patch."
      ],
      "metadata": {
        "collapsed": false,
        "id": "JpoC8Ldu3-ZB"
      }
    },
    {
      "cell_type": "code",
      "execution_count": 13,
      "outputs": [
        {
          "output_type": "stream",
          "name": "stdout",
          "text": [
            "Patch id's: (array([ 104,  106,  111,  150,  164,  179,  205,  224,  228,  250,  269,\n",
            "        274,  278,  295,  309,  313,  314,  318,  325,  344,  374,  377,\n",
            "        381,  382,  412,  414,  426,  428,  462,  463,  465,  475,  476,\n",
            "        480,  494,  500,  505,  509,  511,  512,  518,  521,  536,  542,\n",
            "        552,  553,  554,  555,  557,  570,  576,  583,  585,  591,  605,\n",
            "        606,  607,  618,  620,  621,  630,  634,  647,  650,  663,  664,\n",
            "        665,  691,  697,  698,  711,  735,  763,  764,  774,  803,  805,\n",
            "        821,  822,  823,  844,  860,  874,  875,  892,  893,  907,  908,\n",
            "        938,  951,  953,  954,  963,  967,  974,  986, 1001, 1004, 1008,\n",
            "       1009, 1010, 1012, 1026, 1034, 1052, 1059, 1085, 1110, 1111, 1112,\n",
            "       1113, 1114, 1116, 1124, 1144, 1147, 1153, 1155, 1158, 1160, 1162,\n",
            "       1176, 1178, 1180, 1182, 1195, 1197, 1198, 1200, 1203, 1213, 1214,\n",
            "       1215, 1218, 1219, 1234, 1235, 1241, 1261, 1265, 1266, 1273, 1300,\n",
            "       1313, 1314, 1316, 1317, 1329, 1347, 1362, 1363, 1369, 1370, 1371,\n",
            "       1372, 1378, 1395, 1406, 1410, 1426, 1439, 1440, 1441, 1444, 1448,\n",
            "       1449, 1457, 1458, 1477, 1488, 1489, 1490, 1494, 1497, 1498, 1505,\n",
            "       1511, 1525, 1526, 1527, 1532, 1556, 1557, 1562, 1564, 1566, 1569,\n",
            "       1575, 1598, 1600, 1601, 1610, 1622, 1630, 1631, 1633, 1640, 1645,\n",
            "       1657, 1670, 1681, 1689, 1691, 1697, 1709, 1716, 1721, 1724, 1732,\n",
            "       1742, 1743, 1754, 1758, 1759, 1760, 1761, 1775, 1785, 1792, 1806,\n",
            "       1852, 1856, 1862, 1878, 1879, 1888, 1889, 1895, 1919, 1926, 1928,\n",
            "       1934, 1935, 1939, 1940, 1941, 1942, 1943, 1944, 1950, 1962, 1963,\n",
            "       1964, 1976, 1977, 1978, 1983, 1999, 2003, 2006, 2007, 2013, 2017,\n",
            "       2027, 2034, 2039, 2040, 2045, 2047, 2050, 2052, 2059, 2060, 2072,\n",
            "       2077, 2085, 2089, 2095, 2099, 2110, 2117, 2122, 2133, 2137, 2138,\n",
            "       2144, 2158, 2165, 2172, 2173, 2174, 2178, 2179, 2181, 2190, 2213,\n",
            "       2223, 2229, 2230, 2231, 2254, 2255, 2260, 2276, 2277, 2278, 2279,\n",
            "       2282, 2285, 2297, 2300, 2315, 2319, 2320, 2321, 2324, 2330, 2337,\n",
            "       2347, 2360, 2368, 2369, 2371, 2373, 2374, 2380, 2381, 2391, 2417,\n",
            "       2418, 2419, 2422, 2427, 2428, 2432, 2434, 2459, 2466, 2480, 2481,\n",
            "       2485, 2487, 2495, 2496, 2502, 2506, 2516, 2522, 2525, 2526, 2536,\n",
            "       2546, 2550, 2553, 2554, 2573, 2574, 2583, 2585, 2586, 2592, 2597,\n",
            "       2611, 2617, 2626, 2633, 2634, 2648, 2656, 2660, 2675, 2681, 2683,\n",
            "       2688, 2689, 2706, 2726, 2727, 2728, 2739, 2740, 2743, 2748, 2758,\n",
            "       2760, 2775, 2779, 2780, 2781, 2782, 2783, 2786, 2791, 2798, 2812,\n",
            "       2813, 2814, 2816, 2818, 2822, 2823, 2825, 2844, 2854, 2860, 2863,\n",
            "       2864, 2869, 2872, 2873, 2874, 2875, 2877, 2878, 2889, 2892, 2893,\n",
            "       2895, 2903, 2910, 2913, 2914, 2917, 2919, 2926, 2942, 2943, 2949,\n",
            "       2950, 2951, 2953, 2955, 2957, 2958, 2963, 2964, 2968, 2976, 2987,\n",
            "       2989, 2990, 3002, 3003, 3006, 3007, 3008, 3009, 3010, 3011, 3035,\n",
            "       3041, 3042, 3043, 3044, 3056, 3065, 3075, 3076, 3078, 3085, 3092,\n",
            "       3099, 3122, 3135, 3147, 3150, 3151, 3152, 3156, 3159, 3160, 3165,\n",
            "       3167, 3174, 3191, 3192, 3193, 3196, 3197, 3209, 3211, 3230, 3231,\n",
            "       3243, 3244, 3262, 3266, 3279, 3280, 3284, 3288, 3302, 3307, 3312,\n",
            "       3313, 3319, 3325, 3326, 3329, 3350, 3359, 3363, 3365, 3376, 3378,\n",
            "       3379, 3382, 3386, 3394, 3397, 3407, 3408, 3410, 3411, 3417, 3419,\n",
            "       3437, 3455, 3456, 3457, 3463, 3469, 3476, 3486, 3487, 3488, 3492,\n",
            "       3493, 3495, 3497, 3499, 3501, 3502, 3507, 3508, 3512, 3517, 3520,\n",
            "       3521, 3523, 3526, 3532, 3533, 3545, 3546, 3547, 3548, 3549, 3553,\n",
            "       3554, 3555, 3560, 3561, 3562, 3563, 3576, 3587, 3592, 3593, 3594,\n",
            "       3600, 3614, 3615, 3616, 3621, 3625, 3631, 3634, 3640, 3641, 3654,\n",
            "       3655, 3656, 3657, 3658, 3664, 3665, 3666, 3669, 3675, 3680, 3689,\n",
            "       3690, 3705, 3719, 3723, 3724, 3725, 3740, 3741, 3745, 3751, 3762,\n",
            "       3763, 3764, 3771, 3773, 3775, 3780, 3782, 3792, 3795, 3804, 3806,\n",
            "       3807, 3814, 3820, 3834, 3842, 3853, 3854, 3863, 3877, 3879, 3886,\n",
            "       3887, 3888, 3913, 3914, 3927, 3941, 3954, 3969, 3984, 3988, 3989,\n",
            "       3996, 3998, 4003, 4026, 4029, 4035, 4045, 4073, 4074, 4076, 4084,\n",
            "       4085, 4098, 4141, 4142, 4148, 4154, 4175, 4193, 4196, 4213, 4214,\n",
            "       4238, 4241, 4242, 4243, 4246, 4255, 4256, 4257, 4275, 4276, 4280,\n",
            "       4281, 4282, 4284, 4285, 4286, 4295, 4296, 4297, 4303, 4319, 4338,\n",
            "       4342, 4352, 4353, 4357, 4359, 4360, 4361, 4362, 4363, 4377, 4378,\n",
            "       4385, 4388, 4390, 4394, 4398, 4399, 4400, 4402, 4403, 4409, 4421],\n",
            "      dtype=uint64), array([  1,   2,   1,   2,   1,   2,   1,   1,  10,   1,   1,   4,   1,\n",
            "         1,   1,   2,   1,   1,   4,   1,   2,   2,   1,   1,   1,  14,\n",
            "         2,   1,   1,   1,   2,   2,   1,   1,   1,   1,   1,   1,  21,\n",
            "         1,   1,   1,   1,   2,   1,   1,   1,   1,   8,   1,   1,   1,\n",
            "         3,   2,   2,   1,   1,  16,   1,   1,   1,   1,   3,   1,   1,\n",
            "         1,   1,   6,   1,   1,   1,   3,  18,   1,   2,   1,   1,  21,\n",
            "         1,   2,   1,   5,   1,   1,  24,   2,   1,   1,   1,   2,  27,\n",
            "         1,  20,   2,  20,   7,   1,   1,   1,   7,  11,   2,   1,   1,\n",
            "         1, 104,   5,   1,   3,   4,   1,  97,   8,   1,   5,   9,   4,\n",
            "         2,   1,   2,   2,  47,   6,   7,  20,   1,   7,   1,   1,   3,\n",
            "         1,   1,   1,   1,   1,   2,   4,   1,   1,   7,   8,   7,   2,\n",
            "         1,   8,   6,   5,   1,   1,   5,   1,   7,   1,   1,   1,   1,\n",
            "         1,   4,   1,   1,  20,   1,   1,   2,   2,   4,   1,   1,   1,\n",
            "         3,   1,   2,   1,   8,  55,  14,   1,   1,  37,   1,   1,   3,\n",
            "         1,   1,   2,   2,   4,   1,   1,   4,   1,   2,   1,   2,   8,\n",
            "         1,   1,   1,   2,   1,   1,   1,   7,   1,   1,  16,   2,   1,\n",
            "         4,   9,   1,   1,   1,  17,   1,   1,   1,   1,   1,   1,  13,\n",
            "         1,   1,   2,  28,   3,  21,   2,   1,   1,   1,   3,   1,   1,\n",
            "         5,  77,   2,   1,   1,   8,   1,   1,   1,   2,   1,   1,   3,\n",
            "         1,   1,   1,   1,   1,   6,   1,   1,  19,   1,   2, 157,   1,\n",
            "         1,   1,   1,   2,   1,   1,   1,   4,  38,  12,  44,   1,   8,\n",
            "         4,   1,   1,   2,   1,   1,   8,   1,   1,   1,  71,  11,   9,\n",
            "         1,   9,   1,   1,   1,   1,   1,   3,   1,   3,   1,   2,   1,\n",
            "         8,   1,   9,   1,   1,   1,  17,   2,   1,   3,   1,   1,   1,\n",
            "         2,   1,   1,   1,   1,   1,   1,   1,  35,   1,   2,   1,   1,\n",
            "         5,   1,   1,   1,  10,   4,  30,  64,   1,   1,   1,   2,   1,\n",
            "         6,   1,   1,   1,   1,   3,  24,   1,   1,   1,   1,   1,   4,\n",
            "         2,   1,   1,   1,   3,   1,   1,   1,   2,  50,   7,   6,   1,\n",
            "        16,   1,   1,   1,   1,  75,   6,   2,   2,   3,   1,   1,   1,\n",
            "         1,   6,  11,   1,  97,   1,   2,   3,   1,   1,   1,   1,   1,\n",
            "         1,   2,   6,   1,   1,  13,   1,   3,   4,   1,   1,   1,   1,\n",
            "         1,  22,   1,   2,   5,   9,   5,   4,   1,   1,   3,  42,   7,\n",
            "         4,   1,   3,   1,   1,   3,   4,   1,   1,   1,   1,   1,   1,\n",
            "         1,  17,  11,   1,   7,   4,   1,   2,   2,   1,  71,   5,   1,\n",
            "         1,   1,   3,   1,   5,   1,   2,   1,   1,   4,   1,   1,   1,\n",
            "         1,   1,  24,   2,   1,  19,   5,  12,   1,   1,   1,   1,   1,\n",
            "         3,   1,   5,   1,   1,   3,   1,  23,   1,  16,   1,   1,   2,\n",
            "         1,   1,   4,   1,   1,   1,   1,   2,   1,   3,   1,   8,   1,\n",
            "        14,   1,   1,   2,   1,   1,   3,   3,   1,   5,   7,   1,   1,\n",
            "         3,   2,   1,   1,  81,  53,   6,   1,   1,  15,   5,   1,   1,\n",
            "         2,   1,   4,   1,   2,   1,   7,  42,   1,   2,   1,  30,   1,\n",
            "        12,  16,   1,   8,   1,   2,   1,   4,   3,   1,   1,   1,   1,\n",
            "         5,   1,   1,   2,   2,   1,   2,   3,   1,   1,   1,   1,   1,\n",
            "         1,   3,  12,   1,   4,   1,   1,   2,   4,   1,   2,   1,   2,\n",
            "         1,   3,   2,   5,   1,   6,  24,   2,   1,   1,   2,   1,   1,\n",
            "         1,   1,  13,   1,   8,   3,  21,   3,   2,   1,   1,   1,   1,\n",
            "         2,   1,   2,   1,   1,   1,   3,   1,   2,   1,   9,   8,   1,\n",
            "         2,   2,   1,  10,   1,   1,   1,  18,  18,   4,   1,   1,   4,\n",
            "         1,   2,   2,   1,   1,  18,   1,  13,   1,   1,   1,   2,   1,\n",
            "         1,   4,   1,   1,  60,   8,   1,   1,   1,   1,   1,   2,   1,\n",
            "         1,   1,   1,  27,   1,   1,   1,   1,   3,   3,  63,   5,   1,\n",
            "         1,   1,   1,   6,   3,   1,   1,   3,   2,  31,   2,   8, 125,\n",
            "         1,   1,  14,   3,   1, 543])) (array([ 100,  101,  102, ..., 1432, 1433, 1434], dtype=uint64), array([1, 1, 1, ..., 1, 1, 1]))\n"
          ]
        },
        {
          "output_type": "display_data",
          "data": {
            "text/plain": [
              "<Figure size 640x480 with 2 Axes>"
            ],
            "image/png": "[encoded data removed]"
          },
          "metadata": {}
        }
      ],
      "source": [
        "# Ex. 9.1 here\n",
        "\n",
        "model_sec9 = ForestFire(100, p=0.3, f=0.01, q=0.5)\n",
        "# simulate = Animation2D(model_sec9, frames = 100)\n",
        "# simulate.animate()\n",
        "steps = 100\n",
        "model_sec9_step_gen = (model_sec9.step() for i in range(steps))\n",
        "model_sec9_steps = [model_sec9 for _ in model_sec9_step_gen]\n",
        "std_state = model_sec9_steps[-1].state\n",
        "\n",
        "pch_occupied = patchify(std_state, 1)\n",
        "pch_fire = patchify(std_state, 5)\n",
        "# pch_occupied, pch_fire\n",
        "plt.subplot(1, 2, 1)\n",
        "plot_2d_array(pch_occupied)\n",
        "plt.subplot(1, 2, 2)\n",
        "plot_2d_array(pch_fire)\n",
        "print(\"Patch id's:\", np.unique(pch_occupied[pch_occupied>0], return_counts=True), np.unique(pch_fire[pch_fire>0], return_counts=True))\n"
      ],
      "metadata": {
        "id": "33u9oMd13-ZC",
        "colab": {
          "base_uri": "https://localhost:8080/",
          "height": 1000
        },
        "outputId": "e630f062-7289-4512-927f-c619cff07e3d"
      }
    },
    {
      "cell_type": "markdown",
      "source": [
        "## Ex. 9.2 Patch Size frequency distribution\n",
        "\n",
        "Once you have an array of patch-size counts, construct the distribution of patch sizes.\n",
        "  * you may use `empericaldist.PDF` as shown in the textbook and `complex-colab` notebook; OR\n",
        "  * you may use the `FrequencyDist` class we developed in class (copy it from the course notebook); OR\n",
        "  * you can do the frequency counting yourself - again, `np.unique` could be used, for example to tally up the number of patches in each size class."
      ],
      "metadata": {
        "collapsed": false,
        "id": "ScTKqmvH3-ZC"
      }
    },
    {
      "cell_type": "code",
      "execution_count": 14,
      "outputs": [
        {
          "output_type": "execute_result",
          "data": {
            "text/plain": [
              "(array([  1,   2,   1,   2,   1,   2,   1,   1,  10,   1,   1,   4,   1,\n",
              "          1,   1,   2,   1,   1,   4,   1,   2,   2,   1,   1,   1,  14,\n",
              "          2,   1,   1,   1,   2,   2,   1,   1,   1,   1,   1,   1,  21,\n",
              "          1,   1,   1,   1,   2,   1,   1,   1,   1,   8,   1,   1,   1,\n",
              "          3,   2,   2,   1,   1,  16,   1,   1,   1,   1,   3,   1,   1,\n",
              "          1,   1,   6,   1,   1,   1,   3,  18,   1,   2,   1,   1,  21,\n",
              "          1,   2,   1,   5,   1,   1,  24,   2,   1,   1,   1,   2,  27,\n",
              "          1,  20,   2,  20,   7,   1,   1,   1,   7,  11,   2,   1,   1,\n",
              "          1, 104,   5,   1,   3,   4,   1,  97,   8,   1,   5,   9,   4,\n",
              "          2,   1,   2,   2,  47,   6,   7,  20,   1,   7,   1,   1,   3,\n",
              "          1,   1,   1,   1,   1,   2,   4,   1,   1,   7,   8,   7,   2,\n",
              "          1,   8,   6,   5,   1,   1,   5,   1,   7,   1,   1,   1,   1,\n",
              "          1,   4,   1,   1,  20,   1,   1,   2,   2,   4,   1,   1,   1,\n",
              "          3,   1,   2,   1,   8,  55,  14,   1,   1,  37,   1,   1,   3,\n",
              "          1,   1,   2,   2,   4,   1,   1,   4,   1,   2,   1,   2,   8,\n",
              "          1,   1,   1,   2,   1,   1,   1,   7,   1,   1,  16,   2,   1,\n",
              "          4,   9,   1,   1,   1,  17,   1,   1,   1,   1,   1,   1,  13,\n",
              "          1,   1,   2,  28,   3,  21,   2,   1,   1,   1,   3,   1,   1,\n",
              "          5,  77,   2,   1,   1,   8,   1,   1,   1,   2,   1,   1,   3,\n",
              "          1,   1,   1,   1,   1,   6,   1,   1,  19,   1,   2, 157,   1,\n",
              "          1,   1,   1,   2,   1,   1,   1,   4,  38,  12,  44,   1,   8,\n",
              "          4,   1,   1,   2,   1,   1,   8,   1,   1,   1,  71,  11,   9,\n",
              "          1,   9,   1,   1,   1,   1,   1,   3,   1,   3,   1,   2,   1,\n",
              "          8,   1,   9,   1,   1,   1,  17,   2,   1,   3,   1,   1,   1,\n",
              "          2,   1,   1,   1,   1,   1,   1,   1,  35,   1,   2,   1,   1,\n",
              "          5,   1,   1,   1,  10,   4,  30,  64,   1,   1,   1,   2,   1,\n",
              "          6,   1,   1,   1,   1,   3,  24,   1,   1,   1,   1,   1,   4,\n",
              "          2,   1,   1,   1,   3,   1,   1,   1,   2,  50,   7,   6,   1,\n",
              "         16,   1,   1,   1,   1,  75,   6,   2,   2,   3,   1,   1,   1,\n",
              "          1,   6,  11,   1,  97,   1,   2,   3,   1,   1,   1,   1,   1,\n",
              "          1,   2,   6,   1,   1,  13,   1,   3,   4,   1,   1,   1,   1,\n",
              "          1,  22,   1,   2,   5,   9,   5,   4,   1,   1,   3,  42,   7,\n",
              "          4,   1,   3,   1,   1,   3,   4,   1,   1,   1,   1,   1,   1,\n",
              "          1,  17,  11,   1,   7,   4,   1,   2,   2,   1,  71,   5,   1,\n",
              "          1,   1,   3,   1,   5,   1,   2,   1,   1,   4,   1,   1,   1,\n",
              "          1,   1,  24,   2,   1,  19,   5,  12,   1,   1,   1,   1,   1,\n",
              "          3,   1,   5,   1,   1,   3,   1,  23,   1,  16,   1,   1,   2,\n",
              "          1,   1,   4,   1,   1,   1,   1,   2,   1,   3,   1,   8,   1,\n",
              "         14,   1,   1,   2,   1,   1,   3,   3,   1,   5,   7,   1,   1,\n",
              "          3,   2,   1,   1,  81,  53,   6,   1,   1,  15,   5,   1,   1,\n",
              "          2,   1,   4,   1,   2,   1,   7,  42,   1,   2,   1,  30,   1,\n",
              "         12,  16,   1,   8,   1,   2,   1,   4,   3,   1,   1,   1,   1,\n",
              "          5,   1,   1,   2,   2,   1,   2,   3,   1,   1,   1,   1,   1,\n",
              "          1,   3,  12,   1,   4,   1,   1,   2,   4,   1,   2,   1,   2,\n",
              "          1,   3,   2,   5,   1,   6,  24,   2,   1,   1,   2,   1,   1,\n",
              "          1,   1,  13,   1,   8,   3,  21,   3,   2,   1,   1,   1,   1,\n",
              "          2,   1,   2,   1,   1,   1,   3,   1,   2,   1,   9,   8,   1,\n",
              "          2,   2,   1,  10,   1,   1,   1,  18,  18,   4,   1,   1,   4,\n",
              "          1,   2,   2,   1,   1,  18,   1,  13,   1,   1,   1,   2,   1,\n",
              "          1,   4,   1,   1,  60,   8,   1,   1,   1,   1,   1,   2,   1,\n",
              "          1,   1,   1,  27,   1,   1,   1,   1,   3,   3,  63,   5,   1,\n",
              "          1,   1,   1,   6,   3,   1,   1,   3,   2,  31,   2,   8, 125,\n",
              "          1,   1,  14,   3,   1, 543]),\n",
              " array([  1,   2,   3,   4,   5,   6,   7,   8,   9,  10,  11,  12,  13,\n",
              "         14,  15,  16,  17,  18,  19,  20,  21,  22,  23,  24,  27,  28,\n",
              "         30,  31,  35,  37,  38,  42,  44,  47,  50,  53,  55,  60,  63,\n",
              "         64,  71,  75,  77,  81,  97, 104, 125, 157, 543]),\n",
              " array([386,  84,  40,  28,  18,  12,  13,  16,   7,   3,   4,   4,   4,\n",
              "          4,   1,   5,   3,   4,   2,   4,   4,   1,   1,   4,   2,   1,\n",
              "          2,   1,   1,   1,   1,   2,   1,   1,   1,   1,   1,   1,   1,\n",
              "          1,   2,   1,   1,   1,   2,   1,   1,   1,   1]),\n",
              " None)"
            ]
          },
          "metadata": {},
          "execution_count": 14
        },
        {
          "output_type": "display_data",
          "data": {
            "text/plain": [
              "<Figure size 640x480 with 1 Axes>"
            ],
            "image/png": "[encoded data removed]"
          },
          "metadata": {}
        }
      ],
      "source": [
        "# Ex. 9.2 here\n",
        "\n",
        "patch, patch_size = np.unique(pch_occupied[pch_occupied>0], return_counts=True)\n",
        "values, count = np.unique(patch_size, return_counts=True)\n",
        "\n",
        "Patch_dist = FrequencyDist(patch_size, title='Patch Sizes')\n",
        "\n",
        "patch_size, values, count, Patch_dist.bar()"
      ],
      "metadata": {
        "id": "JQcVh25g3-ZC",
        "colab": {
          "base_uri": "https://localhost:8080/",
          "height": 1000
        },
        "outputId": "10441b0c-90c0-4857-deb7-b308a74c4e66"
      }
    },
    {
      "cell_type": "markdown",
      "source": [
        "## Ex. 9.3 Heavy-tailed distribution?\n",
        "\n",
        "Create a plot of the patch size distribution as a bar-chart or a line-graph, both on a linear and log-log scale, similar to the example in Ch. 10.5\n",
        "Optional: plot the -1 slope line in log-log space on same chart.  Code for this can be found in the Sandpile notebook."
      ],
      "metadata": {
        "collapsed": false,
        "id": "W94b_Q613-ZC"
      }
    },
    {
      "cell_type": "code",
      "execution_count": 15,
      "outputs": [
        {
          "output_type": "display_data",
          "data": {
            "text/plain": [
              "<Figure size 1200x400 with 2 Axes>"
            ],
            "image/png": "[encoded data removed]"
          },
          "metadata": {}
        }
      ],
      "source": [
        "# Ex. 9.3 here\n",
        "\n",
        "EPSILON = 0.00001  # min. anticipated accuracy for slope calculation\n",
        "\n",
        "def log_slope(xs, ys):\n",
        "    \"\"\" Return slope in log-space \"\"\"\n",
        "    return np.diff(np.log(ys)) / np.diff(np.log(xs))\n",
        "\n",
        "def plot_sloped_line(dist, slope=-1, axes=None):\n",
        "    \"\"\" Plot a line with log-log slope from the first point in the dist \"\"\"\n",
        "    axes = axes or plt.gca()\n",
        "    xs = [dist.categories[0], dist.categories[-1]]\n",
        "    ys = [dist.proportions[0], 0]\n",
        "    ys[1] = ys[0] * np.exp(slope*np.log(xs[1]/xs[0]))  # compute y1 so line has a slope exactly -1\n",
        "    assert log_slope(xs, ys) - slope < EPSILON\n",
        "    axes.plot(xs, ys, color='gray', alpha=0.3, linewidth=4)\n",
        "\n",
        "_, (ax1, ax2) = plt.subplots(1, 2, figsize=(12, 4))\n",
        "\n",
        "Patch_dist.plot(ax1)\n",
        "\n",
        "Patch_dist.plot(ax2, xscale='log', yscale='log')\n",
        "plot_sloped_line(Patch_dist, slope=-1, axes=ax2)"
      ],
      "metadata": {
        "id": "_1cEntrV3-ZC",
        "colab": {
          "base_uri": "https://localhost:8080/",
          "height": 395
        },
        "outputId": "e703d9e9-e0ee-424e-8127-2a2e7df29ac3"
      }
    },
    {
      "cell_type": "markdown",
      "source": [
        "### Question 9.4\n",
        "\n",
        "Does the patch size distribution appear to follow the power law?\n",
        "Does it show any signs of being a \"heavy-tailed\" distribution?\n",
        "If it does, what might the implications be for our understanding of the dynamics of real forest ecosystems?\n",
        "\n",
        "#### Answers\n",
        "\n",
        "Based on the above graphs the patch size may follow a heavy tale distribution, but the log-log plotting compared to the -1 slope line does show it moving far away. While it may still be a heavy tailed distribution it does not follow the power law. What this does help is show there may be some other law that forest fires follow, leading to better understanding of the phenomenon and how to more accurately model it."
      ],
      "metadata": {
        "collapsed": false,
        "id": "rha4QxKO3-ZC"
      }
    },
    {
      "cell_type": "markdown",
      "source": [
        "---------------------"
      ],
      "metadata": {
        "collapsed": false,
        "id": "M-oQjlUx3-ZD"
      }
    },
    {
      "cell_type": "markdown",
      "source": [
        "# Lab 10:  Fractal Dimension\n",
        "\n",
        "I highly recommend you start with this [**_2Blue1Brown Video_**](https://youtu.be/gB9n2gHsHN4), if you've not yet seen it.\n",
        "\n",
        "-----------------\n",
        "In this lab we will calculate the [fractal dimension](https://en.wikipedia.org/wiki/Fractal_dimension) of the forested areas thatour `ForestFire` model generates."
      ],
      "metadata": {
        "collapsed": false,
        "id": "kIjFHjAp3-ZD"
      }
    },
    {
      "cell_type": "markdown",
      "source": [
        "## Ex. 10.1 Box Counting\n",
        "\n",
        "We'll use the [box counting](https://en.wikipedia.org/wiki/Box_counting) algorithm, which, in essence, estimates how the measured amount of forested area scales at different sized counting grids (2D rulers).  You are welcome to pilfer the `box_count` code developed for measuring fractal dimension in the **Precolation** model.\n",
        "\n",
        "Run your model forward to steady-state, and use the box counting algorithm to estimate how the pattern of forested patches scales.  The result here show how the count of \"forested\" cells scales with the size of the \"box\" (grid cell) used to do the counting.\n",
        "Just looking at the results, do you think this is closer to a linear or a squared scaling factor?"
      ],
      "metadata": {
        "collapsed": false,
        "id": "iFidn_4w3-ZD"
      }
    },
    {
      "cell_type": "code",
      "execution_count": 16,
      "outputs": [],
      "source": [
        "# Ex. 10.1 here"
      ],
      "metadata": {
        "id": "reqUNtIG3-ZD"
      }
    },
    {
      "cell_type": "markdown",
      "source": [
        "## Ex. 10.2  Estimate Fractal Dimension\n",
        "\n",
        "If we plot the count of forested cells versus the size of the \"box\" on a log-log scale, the slope estimates the fractal dimension.\n",
        "\n",
        "Estimate the slope of your box-count data using a log-log linear regression (again, feel free to pilfer the `log_slope` function).\n",
        "Plot the graph that shows the box-count data in relation to a simple linear and square scaling relation (again, pilfer code as needed)."
      ],
      "metadata": {
        "collapsed": false,
        "id": "9wSv5hIK3-ZD"
      }
    },
    {
      "cell_type": "code",
      "execution_count": 17,
      "outputs": [],
      "source": [
        "# Ex. 10.2 here"
      ],
      "metadata": {
        "id": "3ix9H-YE3-ZE"
      }
    },
    {
      "cell_type": "markdown",
      "source": [
        "## Ex. 10.3  Scaling Experiment\n",
        "\n",
        "In our study of Percolation patterns, we plotted the scaling factor and fractal dimension to visualize how the pattern scales compared to simple linear and square scaling.  We set up an experiment to explore how fractal dimension changed for different model paraemter values, and to idenify a critical values where [phase transitions](https://en.wikipedia.org/wiki/Phase_transition) occur.\n",
        "\n",
        "Repeat these experiments for the `ForestFire` model.  Again, you may adapt the code developed for Percolation."
      ],
      "metadata": {
        "collapsed": false,
        "id": "CEQZp09y3-ZE"
      }
    },
    {
      "cell_type": "code",
      "execution_count": 18,
      "outputs": [],
      "source": [
        "# Ex. 10.3 here"
      ],
      "metadata": {
        "id": "TgHMa1lW3-ZE"
      }
    },
    {
      "cell_type": "markdown",
      "source": [
        "### Question 10.4:\n",
        "How does the fractal dimension change for different values of $p$ and $f$?\n",
        "Does there appear to be a critical value where the fractal dimension goes through a phase change, like we saw for Percolation?\n",
        "What conclusions might your draw about the complexity of forest edges in real forest ecosystems?  How does this compare the the man-made edges that typically result from industrial logging?\n",
        "\n",
        "#### Answers:"
      ],
      "metadata": {
        "collapsed": false,
        "id": "Rhz7YQco3-ZE"
      }
    }
  ],
  "metadata": {
    "kernelspec": {
      "display_name": "Python 3",
      "language": "python",
      "name": "python3"
    },
    "language_info": {
      "codemirror_mode": {
        "name": "ipython",
        "version": 2
      },
      "file_extension": ".py",
      "mimetype": "text/x-python",
      "name": "python",
      "nbconvert_exporter": "python",
      "pygments_lexer": "ipython2",
      "version": "2.7.6"
    },
    "colab": {
      "provenance": []
    }
  },
  "nbformat": 4,
  "nbformat_minor": 0
}