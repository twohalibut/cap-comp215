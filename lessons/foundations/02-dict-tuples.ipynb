{
  "cells": [
    {
      "cell_type": "markdown",
      "source": [
        "# Python Foundations:  new syntax for maps and sequences\n",
        "New Python syntax / concepts for working more effectively with python's built-in map type, `dict`,\n",
        " and linear sequence types, `str`, `tuple`, and `list`\n",
        "\n",
        "Foundations notebook available on Github from the powderflask/cap-comp215 repository.\n",
        "As usual, the first code block just imports the modules we will use."
      ],
      "metadata": {
        "collapsed": false,
        "id": "H71byoCf5C0g"
      }
    },
    {
      "cell_type": "code",
      "execution_count": 1,
      "metadata": {
        "collapsed": true,
        "ExecuteTime": {
          "end_time": "2023-12-26T03:14:36.893294Z",
          "start_time": "2023-12-26T03:14:36.883619Z"
        },
        "id": "V7OoCY5N5C0n"
      },
      "outputs": [],
      "source": [
        "from pprint import pprint"
      ]
    },
    {
      "cell_type": "markdown",
      "source": [
        "## New Python Syntax: dictionary constructor\n",
        "Often constructing a dictionary using keyword arguments makes for more readable code..."
      ],
      "metadata": {
        "collapsed": false,
        "pycharm": {
          "name": "#%% md\n"
        },
        "id": "j4CRJaB25C0r"
      }
    },
    {
      "cell_type": "code",
      "execution_count": 2,
      "outputs": [
        {
          "output_type": "execute_result",
          "data": {
            "text/plain": [
              "({'a': 1, 'b': 2, 'c': 3}, {'a': 1, 'b': 2, 'c': 3})"
            ]
          },
          "metadata": {},
          "execution_count": 2
        }
      ],
      "source": [
        "d1 = {\n",
        "    'a' : 1,\n",
        "    'b' : 2,\n",
        "    'c' : 3,\n",
        "}\n",
        "# vs.\n",
        "d2 = dict(a=1, b=2, c=3)   # only works if dictionary keys are valid python identifiers.\n",
        "\n",
        "assert d1 == d2\n",
        "\n",
        "d1, d2"
      ],
      "metadata": {
        "pycharm": {
          "name": "#%%\n"
        },
        "ExecuteTime": {
          "end_time": "2023-12-26T03:14:36.893606Z",
          "start_time": "2023-12-26T03:14:36.887984Z"
        },
        "id": "tfD05Arw5C0t",
        "outputId": "f2da182d-165a-4a4e-9ec8-2c9ad9cfb07d",
        "colab": {
          "base_uri": "https://localhost:8080/"
        }
      }
    },
    {
      "cell_type": "markdown",
      "source": [
        "## New Python Syntax: tuple unpacking\n",
        "\n",
        "Sequences can be \"unpacked\" in various useful ways.  \n",
        "Here we'll demonstrate using `tuples` but these techniques work with any sequence type..."
      ],
      "metadata": {
        "collapsed": false,
        "id": "CHY6mwcq5C0x"
      }
    },
    {
      "cell_type": "code",
      "source": [
        "t = (1,2,3)\n",
        "x, y, z = t\n",
        "y"
      ],
      "metadata": {
        "id": "M3S71s185bzD",
        "outputId": "dac3c750-8bcc-4bbc-a773-f98ccfed68b1",
        "colab": {
          "base_uri": "https://localhost:8080/"
        }
      },
      "execution_count": 8,
      "outputs": [
        {
          "output_type": "execute_result",
          "data": {
            "text/plain": [
              "2"
            ]
          },
          "metadata": {},
          "execution_count": 8
        }
      ]
    },
    {
      "cell_type": "code",
      "execution_count": 3,
      "outputs": [
        {
          "output_type": "execute_result",
          "data": {
            "text/plain": [
              "(1, 2, 3, 4, 5, 6)"
            ]
          },
          "metadata": {},
          "execution_count": 3
        }
      ],
      "source": [
        "a, b, c = (1, 2, 3)  # unpack a sequence into separate variables\n",
        "assert a == 1 and b == 2 and c == 3\n",
        "\n",
        "s1 = (1, 2, 3)\n",
        "s2 = (4, 5, 6)\n",
        "merged = (*s1, *s2)  # unpack the 2 sequences to add elements to a merged sequence\n",
        "merged"
      ],
      "metadata": {
        "ExecuteTime": {
          "end_time": "2023-12-26T03:14:36.894281Z",
          "start_time": "2023-12-26T03:14:36.891835Z"
        },
        "id": "Kl_xYdzg5C0z",
        "outputId": "8be650a7-ce1a-4149-a86d-3ff8f61a20f2",
        "colab": {
          "base_uri": "https://localhost:8080/"
        }
      }
    },
    {
      "cell_type": "markdown",
      "source": [
        "## New Python Syntax:  dict unpacking\n",
        "\n",
        "Similarly, we can \"unpack\" a map data structure (e.g., `dict`) using the `**` operator.\n",
        "\n",
        "We will see many uses for this syntax, but a handy one is to merge dictionaries together.\n",
        "Notice the dict merged in \"last\" overrides the value of keys defined by earlier dicts."
      ],
      "metadata": {
        "collapsed": false,
        "pycharm": {
          "name": "#%% md\n"
        },
        "id": "K_3p-gRm5C02"
      }
    },
    {
      "cell_type": "code",
      "execution_count": 4,
      "outputs": [
        {
          "output_type": "execute_result",
          "data": {
            "text/plain": [
              "{'a': 1, 'b': 2, 'c': 9, 'd': 8, 'e': 7}"
            ]
          },
          "metadata": {},
          "execution_count": 4
        }
      ],
      "source": [
        "d3 = dict(a=1, b=2, c=3)\n",
        "d4 = dict(c=9, d=8, e=7)  # note also contains key 'c'\n",
        "\n",
        "merged = {**d3, **d4}\n",
        "merged"
      ],
      "metadata": {
        "pycharm": {
          "name": "#%%\n"
        },
        "ExecuteTime": {
          "end_time": "2023-12-26T03:14:36.899002Z",
          "start_time": "2023-12-26T03:14:36.896287Z"
        },
        "id": "NqWqHzqp5C04",
        "outputId": "01360768-da7a-4c07-d106-d0112d80c93b",
        "colab": {
          "base_uri": "https://localhost:8080/"
        }
      }
    },
    {
      "cell_type": "markdown",
      "source": [
        "## New built-in function:  zip()\n",
        "\n",
        "`zip()` is a very powerful function for transforming linear data structures.\n",
        "\n",
        "Think of it like a zipper - it takes 2 (or more) linear  sequences and \"zippers\" their elements together..."
      ],
      "metadata": {
        "collapsed": false,
        "id": "f5zyp8sp5C07"
      }
    },
    {
      "cell_type": "code",
      "execution_count": 5,
      "outputs": [
        {
          "output_type": "execute_result",
          "data": {
            "text/plain": [
              "[('a', 1), ('b', 2), ('c', 3), ('d', 4)]"
            ]
          },
          "metadata": {},
          "execution_count": 5
        }
      ],
      "source": [
        "t1 = ('a', 'b', 'c', 'd')\n",
        "t2 = (1, 2, 3, 4, 5)\n",
        "\n",
        "zippered = zip(t1, t2)\n",
        "list(zippered)   # notice that the length of the \"zipped\" tuples is bounded by the shortest input sequence"
      ],
      "metadata": {
        "ExecuteTime": {
          "end_time": "2023-12-26T03:14:36.902779Z",
          "start_time": "2023-12-26T03:14:36.900097Z"
        },
        "id": "kgzwX0gV5C0-",
        "outputId": "34ec0209-140f-4e4c-999b-ea790c3de54e",
        "colab": {
          "base_uri": "https://localhost:8080/"
        }
      }
    },
    {
      "cell_type": "markdown",
      "source": [
        "### Creating a dict from a list of 2-tuples\n",
        "Here's an example that transforms 2 tuples into a dictionary that maps values in the first tuple to the second!"
      ],
      "metadata": {
        "collapsed": false,
        "id": "H93J5hNb5C1A"
      }
    },
    {
      "cell_type": "code",
      "execution_count": 6,
      "outputs": [
        {
          "output_type": "execute_result",
          "data": {
            "text/plain": [
              "{'a': 1, 'b': 2, 'c': 3, 'd': 4}"
            ]
          },
          "metadata": {},
          "execution_count": 6
        }
      ],
      "source": [
        "map = dict(zip(t1, t2))\n",
        "map"
      ],
      "metadata": {
        "ExecuteTime": {
          "end_time": "2023-12-26T03:14:36.909164Z",
          "start_time": "2023-12-26T03:14:36.902712Z"
        },
        "id": "mutJJHMB5C1D",
        "outputId": "2c852ff6-26c6-4c29-a298-0a745020cb61",
        "colab": {
          "base_uri": "https://localhost:8080/"
        }
      }
    },
    {
      "cell_type": "markdown",
      "source": [
        "... python's built-in types and functions provide a near endless variety of ways to merge, unpack, and transform data.  \n",
        "But it takes some practice to learn how to think about data transformations clearly, and harness python's power effectively."
      ],
      "metadata": {
        "collapsed": false,
        "id": "RF4LLYtl5C1E"
      }
    }
  ],
  "metadata": {
    "kernelspec": {
      "display_name": "Python 3",
      "language": "python",
      "name": "python3"
    },
    "language_info": {
      "codemirror_mode": {
        "name": "ipython",
        "version": 2
      },
      "file_extension": ".py",
      "mimetype": "text/x-python",
      "name": "python",
      "nbconvert_exporter": "python",
      "pygments_lexer": "ipython2",
      "version": "2.7.6"
    },
    "colab": {
      "provenance": []
    }
  },
  "nbformat": 4,
  "nbformat_minor": 0
}