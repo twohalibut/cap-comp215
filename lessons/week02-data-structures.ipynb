{
  "nbformat": 4,
  "nbformat_minor": 0,
  "metadata": {
    "colab": {
      "name": "week2.ipynb",
      "provenance": []
    },
    "kernelspec": {
      "name": "python3",
      "display_name": "Python 3"
    },
    "language_info": {
      "name": "python"
    }
  },
  "cells": [
    {
      "cell_type": "markdown",
      "source": [
        "# Sequence and Map data structures - Strings, Tuples, Lists, Dictionaries\n",
        "Our week 2 lesson workbook, available on Github from the powderflask/cap-comp215 repository.\n",
        "\n",
        "As usual, the first code block just imports the modules we will use."
      ],
      "metadata": {
        "id": "WBMC0GrjNRTM"
      }
    },
    {
      "cell_type": "code",
      "execution_count": 1,
      "metadata": {
        "id": "C1a6aDXAM0WM"
      },
      "outputs": [],
      "source": [
        "import datetime\n",
        "import matplotlib.pyplot as plt\n",
        "import  matplotlib.dates as mdates\n",
        "from pprint import pprint"
      ]
    },
    {
      "cell_type": "markdown",
      "source": [
        "## f-strings\n",
        "A `string` is a sequence of characters / symbols.\n",
        "This familiar data structure is quite powerful, and format-strings (f-strings) take it to the next level...."
      ],
      "metadata": {
        "collapsed": false,
        "pycharm": {
          "name": "#%% md\n"
        },
        "id": "YDSdhSaoY8hv"
      }
    },
    {
      "cell_type": "code",
      "execution_count": 2,
      "outputs": [
        {
          "output_type": "execute_result",
          "data": {
            "text/plain": [
              "'2024-01-15 is not special, but 42 and 3.1415926535 are!'"
            ],
            "application/vnd.google.colaboratory.intrinsic+json": {
              "type": "string"
            }
          },
          "metadata": {},
          "execution_count": 2
        }
      ],
      "source": [
        "today = datetime.date.today()\n",
        "the_answer = 42\n",
        "PI = 3.1415926535\n",
        "\n",
        "f'{today} is not special, but {the_answer} and {PI} are!'"
      ],
      "metadata": {
        "pycharm": {
          "name": "#%%\n"
        },
        "colab": {
          "base_uri": "https://localhost:8080/",
          "height": 35
        },
        "id": "TtB0dz7dY8hz",
        "outputId": "60701b3e-dac0-4735-a997-3514534a9639"
      }
    },
    {
      "cell_type": "markdown",
      "source": [
        "## List Comprehension\n",
        "Provides a compact syntax for two very common sequence-processing algorithms:  Map  and Filter\n",
        "\n",
        "Basic syntax:"
      ],
      "metadata": {
        "id": "k70NJ-JTNwYN"
      }
    },
    {
      "cell_type": "code",
      "source": [
        "#[expression for item in a_collection if condtion]\n",
        "#or\n",
        "#[f(x) for x in C if g(x)]\n",
        "\n",
        "[i**2 for i in range(100) if i%5==0]"
      ],
      "metadata": {
        "id": "HZSz8IftqJ72",
        "colab": {
          "base_uri": "https://localhost:8080/"
        },
        "outputId": "6cdf1d98-ba79-43ed-e456-abe8a537651d"
      },
      "execution_count": 3,
      "outputs": [
        {
          "output_type": "execute_result",
          "data": {
            "text/plain": [
              "[0,\n",
              " 25,\n",
              " 100,\n",
              " 225,\n",
              " 400,\n",
              " 625,\n",
              " 900,\n",
              " 1225,\n",
              " 1600,\n",
              " 2025,\n",
              " 2500,\n",
              " 3025,\n",
              " 3600,\n",
              " 4225,\n",
              " 4900,\n",
              " 5625,\n",
              " 6400,\n",
              " 7225,\n",
              " 8100,\n",
              " 9025]"
            ]
          },
          "metadata": {},
          "execution_count": 3
        }
      ]
    },
    {
      "cell_type": "markdown",
      "source": [
        "### Map Algorithm\n",
        "Apply the same function to every item in another sequence (i.e., provide a \"mapping\" from the source sequence to the target"
      ],
      "metadata": {
        "collapsed": false,
        "pycharm": {
          "name": "#%% md\n"
        },
        "id": "soAPq_eqY8h6"
      }
    },
    {
      "cell_type": "code",
      "execution_count": 4,
      "outputs": [
        {
          "output_type": "execute_result",
          "data": {
            "text/plain": [
              "[1, 4, 9, 16, 25, 36, 49, 64, 81, 100]"
            ]
          },
          "metadata": {},
          "execution_count": 4
        }
      ],
      "source": [
        "# Problem:  compute the first 10 natural squares\n",
        "[i**2 for i in range(1,11)]"
      ],
      "metadata": {
        "pycharm": {
          "name": "#%%\n"
        },
        "colab": {
          "base_uri": "https://localhost:8080/"
        },
        "id": "-BOcw82NY8h8",
        "outputId": "aac004ee-5467-41bf-846f-ce44048f8b8f"
      }
    },
    {
      "cell_type": "markdown",
      "source": [
        "### Filter\n",
        "Select a sub-set of the elements from another sequence based on some criteria."
      ],
      "metadata": {
        "collapsed": false,
        "pycharm": {
          "name": "#%% md\n"
        },
        "id": "6cMpzcqIY8h_"
      }
    },
    {
      "cell_type": "code",
      "execution_count": 5,
      "outputs": [
        {
          "output_type": "execute_result",
          "data": {
            "text/plain": [
              "'o,e,i,u,o,o,i,a,e,o,e,e,u,a,i,i,i,e,i,e,o,e,i,u,o,e,o,i,i,i,u,u,a,o,e,e,o,o,e,a,a,a,i,u,a,e,i,a,i,i,e,i,a,u,i,o,u,e,e,i,a,i,o,u,a,o,a,o,i,i,i,u,a,i,u,i,e,e,a,o,o,o,o,e,u,a'"
            ],
            "application/vnd.google.colaboratory.intrinsic+json": {
              "type": "string"
            }
          },
          "metadata": {},
          "execution_count": 5
        }
      ],
      "source": [
        "VOWELS = 'aeiou'\n",
        "text = '''\n",
        "Lorem ipsum dolor sit amet, consectetur adipiscing elit, sed do eiusmod tempor incididunt ut labore et dolore magna aliqua. Ut enim ad minim veniam, quis nostrud exercitation ullamco laboris nisi ut aliquip ex ea commodo consequat.\n",
        "'''\n",
        "# Problem:  create a string with just the vowels from the text, in order.\n",
        "\n",
        "','.join([letter for letter in text if letter in VOWELS])"
      ],
      "metadata": {
        "pycharm": {
          "name": "#%%\n"
        },
        "colab": {
          "base_uri": "https://localhost:8080/",
          "height": 52
        },
        "id": "17DyC2ORY8iC",
        "outputId": "b3a49f64-1d22-4f91-cfae-7a4d03935280"
      }
    },
    {
      "cell_type": "markdown",
      "source": [
        "## Data Wrangling with List Comprehension\n",
        "E-learn's Live Quiz module does track quiz scores for each student, but does not store them in the gradebook,\n",
        "and it reports on them in the most useless way.\n",
        "\n",
        "Let's do some \"data wrangling\" to make sense out of this mess!\n",
        "\n",
        "### The Problem: Unstructured Data!\n",
        "Notice it is just a single large string!  The real data set has 36 students, and I need to do this every week!"
      ],
      "metadata": {
        "collapsed": false,
        "pycharm": {
          "name": "#%% md\n"
        },
        "id": "ic7KHdEwY8iF"
      }
    },
    {
      "cell_type": "code",
      "execution_count": 6,
      "outputs": [],
      "source": [
        "score = \"\"\"\n",
        "  1.                 Ali Oop scored  7/ 8 = 87%\n",
        "\n",
        "\n",
        "  2.          Alison Ralison scored  8/ 8 = 100%\n",
        "\n",
        "\n",
        "  3.         Ambily Piturbed scored  8/ 8 = 100%\n",
        "\n",
        "\n",
        "  4.  Arshan Risnot Farquared scored  5/ 8 = 62%\n",
        "\n",
        "\n",
        "  5.       Ayushma Jugernaugh scored  5/ 8 = 62%\n",
        "\n",
        "\n",
        "  6.       Brayden Labaguette scored  7/ 8 = 87%\n",
        "\"\"\""
      ],
      "metadata": {
        "pycharm": {
          "name": "#%%\n"
        },
        "id": "J3TdeispY8iH"
      }
    },
    {
      "cell_type": "markdown",
      "source": [
        "### Goal\n",
        "Turn this into structured data: a list of 2-tuples, each student's full name and their integer score."
      ],
      "metadata": {
        "collapsed": false,
        "pycharm": {
          "name": "#%% md\n"
        },
        "id": "wKYHq9Y1Y8iJ"
      }
    },
    {
      "cell_type": "code",
      "execution_count": 7,
      "outputs": [
        {
          "output_type": "execute_result",
          "data": {
            "text/plain": [
              "[('Ali Oop', 7),\n",
              " ('Alison Ralison', 8),\n",
              " ('Ambily Piturbed', 8),\n",
              " ('Arshan Risnot Farquared', 5),\n",
              " ('Ayushma Jugernaugh', 5),\n",
              " ('Brayden Labaguette', 7)]"
            ]
          },
          "metadata": {},
          "execution_count": 7
        }
      ],
      "source": [
        "students = [item.split() for item in score.split('\\n') if item ] #if item evaluates to false as the empty string is considered false for strings\n",
        "scores = [int(s[-4].rstrip('/')) for s in students]\n",
        "names = [' '.join(s[1:-5]) for s in students]\n",
        "list(zip(names, scores))"
      ],
      "metadata": {
        "pycharm": {
          "name": "#%%\n"
        },
        "colab": {
          "base_uri": "https://localhost:8080/"
        },
        "id": "ncOdyEeyY8iK",
        "outputId": "5d9359af-fa73-44a1-eb5e-b85588cab083"
      }
    },
    {
      "cell_type": "markdown",
      "source": [
        "## Records\n",
        "A *record* is a compound data value - a collection of simpler data values (fields) that all describe a single entity.\n",
        "\n",
        " * tuple\n",
        " * dictionary\n",
        " * object\n",
        "\n",
        "Problem: develop the data representation for a `student` in a student record system,\n",
        "where a `student` has a first and last name, student id, and date of birth"
      ],
      "metadata": {
        "collapsed": false,
        "id": "wTWGo8hZY8iL"
      }
    },
    {
      "cell_type": "code",
      "source": [
        "# Tuple\n",
        "(\"John\", \"Doe\", 1234567, \"2000/01/01\")\n",
        "# Dictionary\n",
        "{\n",
        "\n",
        " 'first':\n",
        " 'last':\n",
        " 'id':\n",
        " 'dob':\n",
        "\n",
        "}\n",
        "# Object"
      ],
      "metadata": {
        "id": "Ai9qb3Bolw4h",
        "colab": {
          "base_uri": "https://localhost:8080/",
          "height": 141
        },
        "outputId": "56fc51de-4a5b-4889-843a-877261d8d69a"
      },
      "execution_count": 8,
      "outputs": [
        {
          "output_type": "error",
          "ename": "SyntaxError",
          "evalue": "invalid syntax (<ipython-input-8-51fe606a2d78>, line 7)",
          "traceback": [
            "\u001b[0;36m  File \u001b[0;32m\"<ipython-input-8-51fe606a2d78>\"\u001b[0;36m, line \u001b[0;32m7\u001b[0m\n\u001b[0;31m    'last':\u001b[0m\n\u001b[0m          ^\u001b[0m\n\u001b[0;31mSyntaxError\u001b[0m\u001b[0;31m:\u001b[0m invalid syntax\n"
          ]
        }
      ]
    },
    {
      "cell_type": "markdown",
      "source": [
        "## Stack Example\n",
        "\n",
        "Write and algorithm to determine if all the brackets match in a piece of text."
      ],
      "metadata": {
        "id": "aL9BG2KXyBwB"
      }
    },
    {
      "cell_type": "code",
      "source": [
        "ultimate_goal = '(a+d[i] / (a-b) + f{\"data\"})'\n",
        "\n",
        "\n",
        "s = '(a -(3/6) *(4+7))'\n",
        "\n",
        "def matches(open, close):\n",
        "  pair = (('(',')'), ('[',']'), ('{','}'))\n",
        "  return (open,close) in pairs\n",
        "\n",
        "stack = []\n",
        "for symbol in s:\n",
        "  if symbol in ('(', '[', '{'):\n",
        "    stack.append(symbol)\n",
        "  if symbol == (')', ']', '}'):\n",
        "    matches(stack.pop(), symbol)\n",
        "\n",
        "match = len(stack) == 0\n",
        "\n",
        "# open = 0\n",
        "# for symbol in s:\n",
        "#   if symbol == '(':\n",
        "#     open += 1\n",
        "#   if symbol == ')':\n",
        "#     closed -= 1\n",
        "#   if open < 0:\n",
        "#     break\n",
        "# match = open == 0"
      ],
      "metadata": {
        "colab": {
          "base_uri": "https://localhost:8080/"
        },
        "id": "vrQ0DEmCyNoU",
        "outputId": "5c9ae675-9938-4da6-844b-166f60cf2d2e"
      },
      "execution_count": 13,
      "outputs": [
        {
          "output_type": "execute_result",
          "data": {
            "text/plain": [
              "True"
            ]
          },
          "metadata": {},
          "execution_count": 13
        }
      ]
    },
    {
      "cell_type": "code",
      "source": [],
      "metadata": {
        "id": "2ESF7h-wyk9I"
      },
      "execution_count": null,
      "outputs": []
    }
  ]
}